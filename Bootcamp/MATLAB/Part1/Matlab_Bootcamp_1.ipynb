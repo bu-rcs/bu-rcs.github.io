{
 "cells": [
  {
   "attachments": {
    "Matlab_Logo2.png": {
     "image/png": "[encoded data removed]"
    }
   },
   "cell_type": "markdown",
   "metadata": {},
   "source": [
    "\n",
    "![Matlab_Logo2.png](attachment:Matlab_Logo2.png)\n",
    "# **MatrixLaboratory $\\Rightarrow$ Matlab**\n",
    "is an interpreted programming language. Originally developed for linear algebra and engineering problems, but now with wide applicability and toolboxes for areas ranging from medicine, economics, and machine learning.\n",
    "\n",
    "A good way to introduce yourself to a new language is by trying to solve a \"non-trivial\" problem; learning the tools and syntax necessary to solve the problem along the way. This motivates the syntax/tools in a \"why\" versus \"what\" way!\n",
    "\n",
    "It is good for being \"expressive\", allowing you to use only a few lines of code to implement [Conway's Game of Life](https://en.wikipedia.org/wiki/Conways_Game_of_Life):"
   ]
  },
  {
   "cell_type": "code",
   "execution_count": null,
   "metadata": {},
   "outputs": [],
   "source": [
    "format compact"
   ]
  },
  {
   "cell_type": "code",
   "execution_count": null,
   "metadata": {},
   "outputs": [],
   "source": [
    "%plot native\n",
    "S=zeros(100); S(54:56,81:87)=[0,1,0,0,0,0,0;0,0,0,1,0,0,0;1,1,0,0,1,1,1;];\n",
    "A= single(toeplitz([[1 1] zeros(1,100-2)])); pause(5)\n",
    "for it=1:500\n",
    "    S= min(1,max(0,S+ 1-mod(A*S*A +4,7)));    %Magic\n",
    "    imagesc(S); axis square; axis off; drawnow;\n",
    "end"
   ]
  },
  {
   "cell_type": "markdown",
   "metadata": {},
   "source": [
    "# Motivation: An Exploration of an Interesting Dataset\n",
    "\n",
    "\n",
    "<img src=\"life.PNG\" width=\"800\">\n",
    "\n",
    "\n",
    "**Github repository of data we will use**\n",
    "\n",
    "https://github.com/bu-rcs/bu-rcs.github.io/tree/main/Bootcamp/Data\n",
    "\n",
    "**Citation**\n",
    "\n",
    "University of Wisconsin Population Health Institute. County Health Rankings & Roadmaps 2019.www.countyhealthrankings.org.\n",
    "\n",
    "**Data Source**\n",
    "\n",
    "https://www.countyhealthrankings.org/explore-health-rankings/rankings-data-documentation"
   ]
  },
  {
   "cell_type": "markdown",
   "metadata": {},
   "source": [
    "# **Let's solve an example problem:**\n",
    "\n",
    "[ProjectEuler](https://projecteuler.net/) is a good source of \"starter\" problems.\n",
    "\n",
    "[Problem 1](https://projecteuler.net/problem=1):\n",
    "\n",
    "_\"If we list all the natural numbers below 10 that are multiples of 3 or 5, we get 3, 5, 6 and 9. The sum of these multiples is 23._\n",
    "\n",
    "_Find the sum of all the multiples of 3 or 5 below 1000.\"_\n",
    "\n",
    "Pseudo-code:\n",
    "\n",
    "```\n",
    "1 \"total\" starts at 0\n",
    "2 Loop over all the numbers 1 to 999\n",
    "3     Is the number a multiple of 3 or 5?\n",
    "4         If yes, add to our cumulative sum \"total\"\n",
    "5 Try the next number\n",
    "```"
   ]
  },
  {
   "cell_type": "markdown",
   "metadata": {},
   "source": [
    "Line 1: We need to be able to store \"variables\". It can also be useful to display variables/info:"
   ]
  },
  {
   "cell_type": "code",
   "execution_count": 104,
   "metadata": {},
   "outputs": [
    {
     "name": "stdout",
     "output_type": "stream",
     "text": [
      "We can display things using this function.\n",
      "total =\n",
      "     0\n",
      "total =\n",
      "     1\n",
      "     1\n"
     ]
    }
   ],
   "source": [
    "% We sometimes want to leave helpful comments/explanations right in the\n",
    "% code. This is a comment because it starts with: %\n",
    "\n",
    "% A function optionally takes some input(s) and optionally has some output(s)\n",
    "% it usually looks like:\n",
    "% output = myfunctions(input)\n",
    "disp(\"We can display things using this function.\")\n",
    "\n",
    "% ===== Let's play with variables to figure out line 1 =======\n",
    "total = 0\n",
    "total = 1\n",
    "disp(total)\n",
    "%Here we are using the equals sign \"=\" to indicate variable assignment"
   ]
  },
  {
   "cell_type": "code",
   "execution_count": 105,
   "metadata": {},
   "outputs": [
    {
     "name": "stdout",
     "output_type": "stream",
     "text": [
      "     6\n"
     ]
    }
   ],
   "source": [
    "% Appending a semicolon to the end of a line suppresses output\n",
    "total = 6;\n",
    "disp(total)"
   ]
  },
  {
   "cell_type": "code",
   "execution_count": 112,
   "metadata": {},
   "outputs": [
    {
     "name": "stdout",
     "output_type": "stream",
     "text": [
      "total =\n",
      "    20\n",
      "my_secret_password = \n",
      "    \"joshiscool\"\n",
      "mycollection =\n",
      "     1     3     5     7     9\n",
      "my_size =\n",
      "     1     5\n"
     ]
    }
   ],
   "source": [
    "% This adds 2 to the current value of the variable \"total\", and saves the sum\n",
    "% back in total\n",
    "total = total + 2\n",
    "\n",
    "% We can also save things other than numbers to a variable.\n",
    "% Like a \"string\" of characters:\n",
    "my_secret_password = \"joshiscool\"\n",
    "\n",
    "% Or even a range of numbers: using the first number, a colon, and the last number:\n",
    "mycollection = 1:2:10\n",
    "\n",
    "% That is called a \"vector\", you could also call it an \"array\"\n",
    "% It has a \"size\" that depends on it's shape and how big it is along each\n",
    "% of its dimensions\n",
    "my_size = size(mycollection)"
   ]
  },
  {
   "cell_type": "code",
   "execution_count": 116,
   "metadata": {},
   "outputs": [
    {
     "name": "stdout",
     "output_type": "stream",
     "text": [
      "ans =\n",
      "     1\n"
     ]
    }
   ],
   "source": [
    "mycollection(1)"
   ]
  },
  {
   "cell_type": "markdown",
   "metadata": {},
   "source": [
    "Line 2: We'd like to do the same action over and over, but on varying inputs. This is called a loop; there are several kinds including a \"for\" loop. We do the actions inside the loop \"for\" each value that the loop variable takes on\n",
    "```\n",
    "1 \"total\" starts at 0\n",
    "2 Loop over all the numbers 1 to 999\n",
    "3     Is the number a multiple of 3 or 5?\n",
    "4         If yes, add to our cumulative sum \"total\"\n",
    "5 Try the next number\n",
    "```"
   ]
  },
  {
   "cell_type": "code",
   "execution_count": 131,
   "metadata": {},
   "outputs": [
    {
     "name": "stdout",
     "output_type": "stream",
     "text": [
      "loop_variable =\n",
      "    10\n",
      "loop_variable =\n",
      "     9\n",
      "loop_variable =\n",
      "     8\n",
      "loop_variable =\n",
      "     7\n",
      "loop_variable =\n",
      "     6\n",
      "loop_variable =\n",
      "     5\n",
      "loop_variable =\n",
      "     4\n",
      "loop_variable =\n",
      "     3\n",
      "loop_variable =\n",
      "     2\n",
      "loop_variable =\n",
      "     1\n"
     ]
    }
   ],
   "source": [
    "% ======================= Now for line 2 =====================\n",
    "\n",
    "start_num = 1;\n",
    "end_num = 10;\n",
    "interval = -1;\n",
    "\n",
    "for loop_variable = 10 : -1 : 1\n",
    "    loop_variable\n",
    "end % Matlab knows where the loop ends because we \"end\" the loop."
   ]
  },
  {
   "cell_type": "markdown",
   "metadata": {},
   "source": [
    "We can see how we'd use this to solve the problem: we'll loop over all the numbers 1 to 999. Within the loop we'll test to see if they are a multiple of 3 or 5 and if so add it to our \"total\" variable.\n",
    "\n",
    "Line 3: How do we test if a number is a multiple? How do we take an action depending on some question (in this case if it is a multiple). Let's answer the second question first:\n",
    "```\n",
    "1 \"total\" starts at 0\n",
    "2 Loop over all the numbers 1 to 999\n",
    "3     Is the number a multiple of 3 or 5?\n",
    "4         If yes, add to our cumulative sum \"total\"\n",
    "5 Try the next number\n",
    "```"
   ]
  },
  {
   "cell_type": "code",
   "execution_count": 134,
   "metadata": {},
   "outputs": [
    {
     "name": "stdout",
     "output_type": "stream",
     "text": [
      "obvious_fact =\n",
      "  logical\n",
      "   1\n",
      "obviously_wrong =\n",
      "  logical\n",
      "   0\n",
      "also_true =\n",
      "  logical\n",
      "   0\n",
      "Sadly a doesn't equal b\n",
      "both_arent_true =\n",
      "  logical\n",
      "   0\n",
      "but_at_least_one_is_true =\n",
      "  logical\n",
      "   1\n"
     ]
    }
   ],
   "source": [
    "% ======================= Now for line 3 =====================\n",
    "\n",
    "% Matlab represents \"true\" as 1 and \"false\" as 0\n",
    "obvious_fact = 10 > 1\n",
    "obviously_wrong = 999 < 2\n",
    "a = 10+1;\n",
    "b = 12;\n",
    "also_true = a==b\n",
    "% Here \"==\"re checking for equality, *not* doing variable assignment\n",
    "\n",
    "% We can take conditional actions using an \"if\" statement\n",
    "if a==b\n",
    "    disp(\"I assure you a equals b\")\n",
    "elseif a>b\n",
    "    disp(\"a is greater than b\")\n",
    "else\n",
    "    disp(\"Sadly a doesn't equal b\")\n",
    "end % Just like a \"for\" loop, we need to \"end\" an if statement\n",
    "% We can also combine logical statements\n",
    "both_arent_true = obviously_wrong & obvious_fact            % \"and\" statement\n",
    "but_at_least_one_is_true = obviously_wrong | obvious_fact   % \"or\" statement"
   ]
  },
  {
   "cell_type": "markdown",
   "metadata": {},
   "source": [
    "You need to be careful when using floating point numbers and testing for equality:"
   ]
  },
  {
   "cell_type": "code",
   "execution_count": 138,
   "metadata": {},
   "outputs": [
    {
     "name": "stdout",
     "output_type": "stream",
     "text": [
      "c =\n",
      "    0.3000\n",
      "d =\n",
      "    0.3000\n"
     ]
    }
   ],
   "source": [
    "format short\n",
    "c = 0.15 + 0.15\n",
    "d = 0.10 + 0.20"
   ]
  },
  {
   "cell_type": "code",
   "execution_count": 141,
   "metadata": {},
   "outputs": [
    {
     "name": "stdout",
     "output_type": "stream",
     "text": [
      "a equals b\n",
      "c doesn't equal d\n",
      "c =\n",
      "   0.300000000000000\n",
      "d =\n",
      "   0.300000000000000\n",
      "f =\n",
      "   0.666666666666667\n",
      "ans =\n",
      "     5.551115123125783e-17\n"
     ]
    }
   ],
   "source": [
    "format long %See all decimal digits\n",
    "\n",
    "a = 2+2;\n",
    "b = 1+3;\n",
    "if a==b\n",
    "    disp(\"a equals b\") %What do you expect here?\n",
    "else\n",
    "    disp(\"a doesn't equal b\")\n",
    "end\n",
    "\n",
    "c = 0.15 + 0.15;\n",
    "d = 0.10 + 0.20;\n",
    "if c==d\n",
    "    disp(\"c equals d\") %What do you expect here?\n",
    "else\n",
    "    disp(\"c doesn't equal d\")\n",
    "end\n",
    "\n",
    "c\n",
    "d\n",
    "f=2/3\n",
    "d-c"
   ]
  },
  {
   "cell_type": "code",
   "execution_count": 143,
   "metadata": {},
   "outputs": [
    {
     "name": "stdout",
     "output_type": "stream",
     "text": [
      "c_minus_d =\n",
      "   5.5511e-17\n",
      "absolute_FP_error =\n",
      "   5.5511e-17\n",
      "c equals d, within floating point tolerance\n"
     ]
    }
   ],
   "source": [
    "c_minus_d = abs(c-d)\n",
    "\n",
    "absolute_FP_error = eps(c)\n",
    "\n",
    "if abs(c-d)<=1.5*eps(d)\n",
    "    disp(\"c equals d, within floating point tolerance\")\n",
    "else\n",
    "    disp(\"c doesn't equal d, within floating point tolerance\")\n",
    "end\n",
    "\n",
    "format short %Hide some precision"
   ]
  },
  {
   "cell_type": "code",
   "execution_count": null,
   "metadata": {},
   "outputs": [],
   "source": [
    "bank_account =1.37\n",
    "bank_account = bank_account + 10.00\n",
    "bank_account = bank_account - 11.37\n",
    "if bank_account == 0\n",
    "    disp(\"Ooops\")\n",
    "else\n",
    "    disp(\"Buy even more stuff!\")\n",
    "end"
   ]
  },
  {
   "cell_type": "markdown",
   "metadata": {},
   "source": [
    "Floating point numbers have limited precision:\n",
    "https://en.wikipedia.org/wiki/Floating-point_arithmetic#Internal_representation\n",
    "\n",
    "There are many pitfalls to working with floating point numbers:\n",
    "https://docs.oracle.com/cd/E19957-01/806-3568/ncg_goldberg.html"
   ]
  },
  {
   "cell_type": "markdown",
   "metadata": {},
   "source": [
    "```\n",
    "1 \"total\" starts at 0\n",
    "2 Loop over all the numbers 1 to 999\n",
    "3     Is the number a multiple of 3 or 5?\n",
    "4         If yes, add to our cumulative sum \"total\"\n",
    "5 Try the next number\n",
    "```\n",
    "So that answers the second question, but how do we test if something is a multiple? This is more a logic/math question than exclusively programming, but any non-trivial program will need you to figure things like this out. A number is a multiple of 3 if it is evenly divided by 3:\n",
    "* 3 evenly divides into 12, so 12 is a a multiple of 3\n",
    "* 3 doesn't evenly divide 13, so 13 isn't a multiple"
   ]
  },
  {
   "cell_type": "markdown",
   "metadata": {},
   "source": [
    "So our problem is now to test for divisibility. Let's cook up a couple ways:"
   ]
  },
  {
   "cell_type": "code",
   "execution_count": 144,
   "metadata": {},
   "outputs": [
    {
     "name": "stdout",
     "output_type": "stream",
     "text": [
      "quotient =\n",
      "    4.3333\n"
     ]
    }
   ],
   "source": [
    "quotient = 13/3"
   ]
  },
  {
   "cell_type": "code",
   "execution_count": 149,
   "metadata": {},
   "outputs": [
    {
     "name": "stdout",
     "output_type": "stream",
     "text": [
      "quotient =\n",
      "    4.3333\n",
      "rounded =\n",
      "     4\n",
      "is_multiple =\n",
      "  logical\n",
      "   0\n",
      "quotient =\n",
      "     4\n",
      "rounded =\n",
      "     4\n",
      "is_multiple =\n",
      "  logical\n",
      "   1\n"
     ]
    }
   ],
   "source": [
    "dummy=1;\n",
    "% Test for divisibility\n",
    "% Way 1\n",
    "quotient = 13/3\n",
    "\n",
    "% Way 1: Is the quotient the same rounded or not?\n",
    "rounded = round(quotient,0)\n",
    "% We can round to the nearest whole number\n",
    "is_multiple = rounded==quotient\n",
    "\n",
    "quotient = 12/3\n",
    "rounded = round(quotient)\n",
    "is_multiple = rounded==quotient"
   ]
  },
  {
   "cell_type": "code",
   "execution_count": 155,
   "metadata": {},
   "outputs": [
    {
     "name": "stdout",
     "output_type": "stream",
     "text": [
      "ans =\n",
      "     1\n",
      "ans =\n",
      "     0\n",
      "a is considered false\n"
     ]
    }
   ],
   "source": [
    "% Can you think of a different way?\n",
    "% A number is a multiple if there is no remainder after division\n",
    "rem(13,3)\n",
    "rem(12,3)\n",
    "% Matlab treats non-zero numbers as true, and numerical zero as false\n",
    "a = 0;\n",
    "if a\n",
    "    disp(\"a is considered true\")\n",
    "else\n",
    "    disp(\"a is considered false\")\n",
    "end"
   ]
  },
  {
   "cell_type": "code",
   "execution_count": 166,
   "metadata": {},
   "outputs": [
    {
     "name": "stdout",
     "output_type": "stream",
     "text": [
      "total =\n",
      "      233168\n"
     ]
    }
   ],
   "source": [
    "total =0;\n",
    "for loop_variable = 1:999\n",
    "    ismultiple3 = ~rem(loop_variable,3);\n",
    "    ismultiple5 = ~rem(loop_variable,5);\n",
    "    if ismultiple3 | ismultiple5\n",
    "        total = total + loop_variable;\n",
    "    else % Is there a situation where it would be and we need to take action?\n",
    "    end\n",
    "end\n",
    "total"
   ]
  },
  {
   "cell_type": "markdown",
   "metadata": {},
   "source": [
    "Let's apply these ideas to test if a number is divisible by 3 or 5."
   ]
  },
  {
   "cell_type": "code",
   "execution_count": null,
   "metadata": {},
   "outputs": [],
   "source": [
    "n=7;\n",
    "divisible3 = ~rem(n,3);\n",
    "divisible5 = ~rem(n,5);\n",
    "\n",
    "if divisible3 | divisible5\n",
    "    disp(\"Divisible by 3 or 5\")\n",
    "elseif divisible3 & ~divisible5\n",
    "    disp(\"Divisible by only 3\")\n",
    "elseif ~divisible3 & divisible5\n",
    "    disp(\"Divisible by only 5\")\n",
    "else \n",
    "    disp(\"Not divisible by 3 or 5\")\n",
    "end"
   ]
  },
  {
   "cell_type": "markdown",
   "metadata": {},
   "source": [
    "# **Putting it all together to solve Problem 1**"
   ]
  },
  {
   "cell_type": "code",
   "execution_count": null,
   "metadata": {},
   "outputs": [],
   "source": [
    "%Total starts at 0\n",
    "total=0\n",
    "%Loop over all the numbers 1 to 999\n",
    "for i = 1:999\n",
    "    %Is the number a multiple of 3 or 5?\n",
    "    divisibleBy3 = ~rem(i,3);\n",
    "    divisibleBy5 = ~rem(i,5);\n",
    "    if divisibleBy3 | divisibleBy5\n",
    "        %If yes, add to our cumulative sum\n",
    "        total = total + i;\n",
    "    end\n",
    "%Try the next number\n",
    "end\n",
    "total"
   ]
  },
  {
   "cell_type": "code",
   "execution_count": null,
   "metadata": {},
   "outputs": [],
   "source": [
    "%Total starts at 0\n",
    "total = 0;\n",
    "%Loop over all the numbers 1 to 999\n",
    "for n = 1:999\n",
    "    %Is the number a multiple of 3 or 5?\n",
    "    if round(n/3)==(n/3) | round(n/5)==(n/5)\n",
    "        %If yes, add to our cumulative sum\n",
    "        total = total + n;\n",
    "    end\n",
    "%Try the next number\n",
    "end\n",
    "disp(total)"
   ]
  },
  {
   "cell_type": "markdown",
   "metadata": {},
   "source": [
    "What about the other loop construct?\n"
   ]
  },
  {
   "cell_type": "code",
   "execution_count": 181,
   "metadata": {
    "scrolled": true
   },
   "outputs": [
    {
     "name": "stdout",
     "output_type": "stream",
     "text": [
      "Am I an adult?\n",
      "1 years old, not yet!\n",
      "2 years old, not yet!\n",
      "3 years old, not yet!\n",
      "4 years old, not yet!\n",
      "5 years old, not yet!\n",
      "6 years old, not yet!\n",
      "7 years old, not yet!\n",
      "8 years old, not yet!\n",
      "9 years old, not yet!\n",
      "10 years old, not yet!\n",
      "10 years old, finally an adult or I need to go to the doctor.\n"
     ]
    }
   ],
   "source": [
    "age = 0;\n",
    "adult = 18;\n",
    "sick = 0;\n",
    "disp(\"Am I an adult?\")\n",
    "rng(39)\n",
    "while ~sick\n",
    "    age = age + 1;\n",
    "    sick = rand(1)>0.9;\n",
    "    if age>=adult\n",
    "        break\n",
    "    end\n",
    "    disp(num2str(age)+\" years old, not yet!\")\n",
    "end\n",
    "disp(num2str(age)+\" years old, finally an adult or I need to go to the doctor.\")"
   ]
  },
  {
   "cell_type": "markdown",
   "metadata": {},
   "source": [
    "We can also re-use this simple while loop to show a couple other ideas: random numbers, non-deterministic program behavior, and ```break```ing out of loops"
   ]
  },
  {
   "cell_type": "markdown",
   "metadata": {},
   "source": [
    "# **Vectors/Matrices and Vectorization**\n",
    "\n",
    "Is there a \"faster\" way to solve our Project Euler problem? We could vectorize.\n",
    "\n",
    "Vector operations perform the same operation on multiple pieces of data. Consider a vector of the numbers 1 through 10. Recall we can make a vector like this easily:"
   ]
  },
  {
   "cell_type": "code",
   "execution_count": 183,
   "metadata": {},
   "outputs": [
    {
     "name": "stdout",
     "output_type": "stream",
     "text": [
      "v =\n",
      "     1     2     3     4     5     6     7     8     9    10\n"
     ]
    }
   ],
   "source": [
    "v = 1:10"
   ]
  },
  {
   "cell_type": "markdown",
   "metadata": {},
   "source": [
    "If we want to find the sum of each of these numbers, plus 3, squared we could do:"
   ]
  },
  {
   "cell_type": "code",
   "execution_count": 184,
   "metadata": {},
   "outputs": [
    {
     "name": "stdout",
     "output_type": "stream",
     "text": [
      "total =\n",
      "   805\n"
     ]
    }
   ],
   "source": [
    "total = 0;\n",
    "for i=v\n",
    "    operation = (i+3)^2;\n",
    "    total = total + operation;\n",
    "end\n",
    "total"
   ]
  },
  {
   "cell_type": "markdown",
   "metadata": {},
   "source": [
    "We can actually do this all in one set of operations:"
   ]
  },
  {
   "cell_type": "code",
   "execution_count": 193,
   "metadata": {},
   "outputs": [
    {
     "name": "stdout",
     "output_type": "stream",
     "text": [
      "u =\n",
      "    11    12    13    14    15    16    17    18    19    20\n"
     ]
    }
   ],
   "source": [
    "u = 11:20"
   ]
  },
  {
   "cell_type": "code",
   "execution_count": 185,
   "metadata": {},
   "outputs": [
    {
     "name": "stdout",
     "output_type": "stream",
     "text": [
      "v =\n",
      "     1     2     3     4     5     6     7     8     9    10\n"
     ]
    }
   ],
   "source": [
    "v"
   ]
  },
  {
   "cell_type": "code",
   "execution_count": 189,
   "metadata": {},
   "outputs": [
    {
     "name": "stdout",
     "output_type": "stream",
     "text": [
      "ans =\n",
      "     1    10\n"
     ]
    }
   ],
   "source": [
    "size(v)"
   ]
  },
  {
   "cell_type": "code",
   "execution_count": 186,
   "metadata": {},
   "outputs": [
    {
     "name": "stdout",
     "output_type": "stream",
     "text": [
      "ans =\n",
      "     4     5     6     7     8     9    10    11    12    13\n"
     ]
    }
   ],
   "source": [
    "v+3"
   ]
  },
  {
   "cell_type": "code",
   "execution_count": 197,
   "metadata": {},
   "outputs": [
    {
     "name": "stdout",
     "output_type": "stream",
     "text": [
      "ans =\n",
      "    16    25    36    49    64    81   100   121   144   169\n"
     ]
    }
   ],
   "source": [
    "(v+3).^2"
   ]
  },
  {
   "cell_type": "code",
   "execution_count": 198,
   "metadata": {},
   "outputs": [
    {
     "name": "stdout",
     "output_type": "stream",
     "text": [
      "ans =\n",
      "   805\n"
     ]
    }
   ],
   "source": [
    "sum((v+3).^2)"
   ]
  },
  {
   "cell_type": "markdown",
   "metadata": {},
   "source": [
    "Notice that we need to put a \".\" before the exponentiation. This is because MATLAB treats matrix algebra as the expected operation. The dot tells it to perform the \"scalar\" version of the operation, going one-by-one through each element. See the difference here:"
   ]
  },
  {
   "cell_type": "code",
   "execution_count": null,
   "metadata": {},
   "outputs": [],
   "source": [
    "v^2"
   ]
  },
  {
   "cell_type": "code",
   "execution_count": null,
   "metadata": {},
   "outputs": [],
   "source": [
    "v.^2"
   ]
  },
  {
   "cell_type": "markdown",
   "metadata": {},
   "source": [
    "Be careful as accidentally doing the wrong scalar/vector operation deosn't always result in an error message, some operations will work both ways."
   ]
  },
  {
   "cell_type": "code",
   "execution_count": null,
   "metadata": {},
   "outputs": [],
   "source": [
    "v = 1:10\n",
    "u = [1:10]' %The single qoute mark gives the \"transpose\" of the matrix, making columns into rows and vice versa"
   ]
  },
  {
   "cell_type": "code",
   "execution_count": null,
   "metadata": {},
   "outputs": [],
   "source": [
    "vector = v*u %This is actually an inner product\n",
    "scalar = v.*u %This is effectively an outer product"
   ]
  },
  {
   "cell_type": "markdown",
   "metadata": {},
   "source": [
    "So we can use this idea to make a more compact (and faster) way to do this: "
   ]
  },
  {
   "cell_type": "code",
   "execution_count": 199,
   "metadata": {},
   "outputs": [],
   "source": [
    "n = 1:999;"
   ]
  },
  {
   "cell_type": "code",
   "execution_count": 200,
   "metadata": {},
   "outputs": [
    {
     "name": "stdout",
     "output_type": "stream",
     "text": [
      "ans =\n",
      "      233168\n"
     ]
    }
   ],
   "source": [
    "sum(n(~rem(n,3) | ~rem(n,5)))"
   ]
  },
  {
   "cell_type": "markdown",
   "metadata": {},
   "source": [
    "# **Functions**\n",
    "\n",
    "We can encapsulate a potentially complex idea/code inside of a convenient package. Image we have devised a way of computing if a number is a multiple of another:"
   ]
  },
  {
   "cell_type": "code",
   "execution_count": 202,
   "metadata": {},
   "outputs": [
    {
     "name": "stdout",
     "output_type": "stream",
     "text": [
      "ans =\n",
      "     4\n"
     ]
    }
   ],
   "source": [
    "round(11/3)"
   ]
  },
  {
   "cell_type": "code",
   "execution_count": null,
   "metadata": {},
   "outputs": [],
   "source": [
    "a=6"
   ]
  },
  {
   "cell_type": "code",
   "execution_count": null,
   "metadata": {},
   "outputs": [],
   "source": [
    "4<3"
   ]
  },
  {
   "cell_type": "code",
   "execution_count": 203,
   "metadata": {},
   "outputs": [
    {
     "name": "stdout",
     "output_type": "stream",
     "text": [
      "ans =\n",
      "  logical\n",
      "   0\n"
     ]
    }
   ],
   "source": [
    "round(9437598/145)==(9437598/145)"
   ]
  },
  {
   "cell_type": "markdown",
   "metadata": {},
   "source": [
    "We can also see if it's a multiple of several numbers:"
   ]
  },
  {
   "cell_type": "code",
   "execution_count": 204,
   "metadata": {},
   "outputs": [
    {
     "name": "stdout",
     "output_type": "stream",
     "text": [
      "ans =\n",
      "  logical\n",
      "   1\n"
     ]
    }
   ],
   "source": [
    "round(117/3)==(117/3) | round(117/5)==(117/5)"
   ]
  },
  {
   "cell_type": "markdown",
   "metadata": {},
   "source": [
    "But this starts to get silly:"
   ]
  },
  {
   "cell_type": "code",
   "execution_count": null,
   "metadata": {},
   "outputs": [],
   "source": [
    "round(4561/3)==(4561/3) | round(4561/5)==(4564/5) | round(4561/7)==(4561/7) | round(4561/11)==(4561/11) | round(117/13)==(117/13)| round(117/15)==(117/15)"
   ]
  },
  {
   "cell_type": "markdown",
   "metadata": {},
   "source": [
    "Generally copying-pasting the same code over and over is bad. It is harder to read, but even worse also changing the copy-paste in one area doesn't update everywhere else. We can encapsulate our code to test for divisibility into our own function:"
   ]
  },
  {
   "cell_type": "code",
   "execution_count": 205,
   "metadata": {},
   "outputs": [
    {
     "name": "stdout",
     "output_type": "stream",
     "text": [
      "Created file '/projectnb2/scv/jbevan/tutorials/bootcamp/is_mult.m'.\n"
     ]
    }
   ],
   "source": [
    "%%file is_mult.m\n",
    "\n",
    "function res = is_mult(test,divisor)\n",
    "    res = round(test/divisor)==(test/divisor);\n",
    "end"
   ]
  },
  {
   "cell_type": "markdown",
   "metadata": {},
   "source": [
    "MATLAB requires functions to be defined in a separate file with the filename the same as the function name, though the \"parent\" function can also contain other function definitions. For simple functions it is possible to define them inline; these are called \"anonymous\" functions. You can define them this way:"
   ]
  },
  {
   "cell_type": "code",
   "execution_count": 206,
   "metadata": {},
   "outputs": [],
   "source": [
    "is_mult_anon = @(n,divisor) round(n/divisor)==(n/divisor);"
   ]
  },
  {
   "cell_type": "code",
   "execution_count": 208,
   "metadata": {},
   "outputs": [
    {
     "name": "stdout",
     "output_type": "stream",
     "text": [
      "ans =\n",
      "  logical\n",
      "   0\n"
     ]
    }
   ],
   "source": [
    "is_mult_anon(992,3)"
   ]
  },
  {
   "cell_type": "markdown",
   "metadata": {},
   "source": [
    "You can encapsulate very complex programs/algorithms and treat them as a black box:"
   ]
  },
  {
   "cell_type": "code",
   "execution_count": 209,
   "metadata": {},
   "outputs": [
    {
     "name": "stderr",
     "output_type": "stream",
     "text": [
      "\u001b[0;31mError using eval\n",
      "Unrecognized function or variable 'write_paper_that_gets_into_nature'.\n",
      "\u001b[0m"
     ]
    }
   ],
   "source": [
    "write_paper_that_gets_into_nature('Josh Bevan')"
   ]
  },
  {
   "cell_type": "markdown",
   "metadata": {},
   "source": [
    "## String Manipulation\n",
    "Matlab can do all sorts of string manipulation. This can be useful for all sorts of tasks. Imagince we have some DNA sequencing data (base pairs) that we want to do some processing on:"
   ]
  },
  {
   "cell_type": "code",
   "execution_count": null,
   "metadata": {},
   "outputs": [],
   "source": [
    "bp = ['atcg']"
   ]
  },
  {
   "cell_type": "code",
   "execution_count": null,
   "metadata": {},
   "outputs": [],
   "source": [
    "rng(43) %Set random number generator to be reproducible\n",
    "my_rand = randi(4,1,10)"
   ]
  },
  {
   "cell_type": "code",
   "execution_count": null,
   "metadata": {},
   "outputs": [],
   "source": [
    "bp(my_rand)"
   ]
  },
  {
   "cell_type": "code",
   "execution_count": null,
   "metadata": {},
   "outputs": [],
   "source": [
    "bp(randi(4,1,10))"
   ]
  },
  {
   "cell_type": "markdown",
   "metadata": {},
   "source": [
    "# Data Types\n",
    "\n",
    "Primitives: Integers/Floating Point/Characters/Strings/Booleans/etc."
   ]
  },
  {
   "cell_type": "code",
   "execution_count": null,
   "metadata": {},
   "outputs": [],
   "source": [
    "a=uint8(2)\n",
    "b=uint8(30)"
   ]
  },
  {
   "cell_type": "code",
   "execution_count": null,
   "metadata": {},
   "outputs": [],
   "source": [
    "a-b"
   ]
  },
  {
   "cell_type": "code",
   "execution_count": null,
   "metadata": {},
   "outputs": [],
   "source": [
    "bp_char='atcg';\n",
    "bp_string=\"atcg\";\n",
    "class(bp_char)\n",
    "class(bp_string)"
   ]
  },
  {
   "cell_type": "code",
   "execution_count": null,
   "metadata": {},
   "outputs": [],
   "source": [
    "format long\n",
    "a = double(2/3)\n",
    "b = single(2/3)\n",
    "eps(a)\n",
    "eps(b)\n",
    "format short"
   ]
  },
  {
   "cell_type": "markdown",
   "metadata": {},
   "source": [
    "**Sructs:**"
   ]
  },
  {
   "cell_type": "code",
   "execution_count": null,
   "metadata": {},
   "outputs": [],
   "source": [
    "for i=1:10\n",
    "    patient(i).dna = bp_char(randi(4,1,20));\n",
    "end\n",
    "patient(2).dna"
   ]
  },
  {
   "cell_type": "code",
   "execution_count": null,
   "metadata": {},
   "outputs": [],
   "source": [
    "class(patient)"
   ]
  },
  {
   "cell_type": "markdown",
   "metadata": {},
   "source": [
    "**Maps:**"
   ]
  },
  {
   "cell_type": "code",
   "execution_count": null,
   "metadata": {},
   "outputs": [],
   "source": [
    "mymap = containers.Map([\"smallest prime\",\"dull number\",\"days in year\"],[2,1729,365])"
   ]
  },
  {
   "cell_type": "code",
   "execution_count": null,
   "metadata": {},
   "outputs": [],
   "source": [
    "mymap = containers.Map([\"smallest prime\",\"dull number\",\"days in year\"],[2,1729,365])"
   ]
  },
  {
   "cell_type": "code",
   "execution_count": null,
   "metadata": {},
   "outputs": [],
   "source": [
    "mymap(\"days in year\")"
   ]
  },
  {
   "cell_type": "markdown",
   "metadata": {},
   "source": [
    "And others... cell arrays, dates, categorical, and **tables** (which we will look at in closer detail next time)"
   ]
  }
 ],
 "metadata": {
  "kernelspec": {
   "display_name": "Matlab",
   "language": "matlab",
   "name": "matlab"
  },
  "language_info": {
   "codemirror_mode": "octave",
   "file_extension": ".m",
   "help_links": [
    {
     "text": "MetaKernel Magics",
     "url": "https://metakernel.readthedocs.io/en/latest/source/README.html"
    }
   ],
   "mimetype": "text/x-octave",
   "name": "matlab",
   "version": "0.16.9"
  }
 },
 "nbformat": 4,
 "nbformat_minor": 2
}
