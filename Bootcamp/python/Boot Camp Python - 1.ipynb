{
 "cells": [
  {
   "cell_type": "markdown",
   "metadata": {},
   "source": [
    "# Research Computing Boot Camp\n",
    "# Boston University "
   ]
  },
  {
   "cell_type": "markdown",
   "metadata": {},
   "source": [
    "Website: [rcs.bu.edu](http://www.bu.edu/tech/support/research/) <br>\n",
    "Tutorial materials: [https://github.com/bu-rcs/bu-rcs.github.io/tree/main/Bootcamp](https://github.com/bu-rcs/bu-rcs.github.io/tree/main/Bootcamp)\n",
    "\n"
   ]
  },
  {
   "cell_type": "markdown",
   "metadata": {},
   "source": [
    "# Python Part 1: Language Basics and Example Dataset"
   ]
  },
  {
   "cell_type": "markdown",
   "metadata": {},
   "source": [
    "Note:  This tutorial is a short introduction to the Python language and the Jupyter notebook development system.  \n",
    "\n",
    "The regular RCS Python tutorials are more in-depth and cover more features of the Python language along with debugging techniques, good software development practices, optimization, and more.  Feel free to sign up for any of those in addition to these Boot Camp tutorials."
   ]
  },
  {
   "cell_type": "markdown",
   "metadata": {},
   "source": [
    "# The Python Language"
   ]
  },
  {
   "cell_type": "markdown",
   "metadata": {},
   "source": [
    "\n",
    "\n",
    "This tutorial will cover the basics of Python and introduce the data set we'll be working with.  The topics we'll cover are:\n",
    "\n",
    "* Variables\n",
    "* Functions\n",
    "* Lists and Dictionaries\n",
    "* Loops\n",
    "* Conditionals\n",
    "* Libraries\n",
    "* The University of Wisconsin Population Health Institute County Health Rankings data set\n",
    "* Putting it all together..."
   ]
  },
  {
   "cell_type": "markdown",
   "metadata": {},
   "source": [
    "## Python Language References\n",
    "\n",
    "The main Python site:  https://www.python.org/\n",
    "\n",
    "Language reference: https://docs.python.org/3.8/\n",
    "\n",
    "### What is Python?\n",
    "\n",
    "Python is a general purpose, interpreted, object-oriented programming language. It was designed to be easy to learn and use while supporting sophisticated programming techniques and good performance.\n",
    "\n",
    "In an *interpreted* language a program, here the Python interpreter, reads Python code from a file or from a command line and executes the code. This is contrasted with *compiled* languages (ex. C++, Fortran) where a program, called the compiler, converts program code from a file into executable code which is then run directly by the computer.\n",
    "\n",
    "### Jupyter Notebooks\n",
    "\n",
    "The Jupyter Notebook provides an interface to the Python interpreter in a highly interactive and easy to modify environment. Program code, comments, descriptive text like this section, plots, and calculation results can all be stored in the notebook. The Python code written in a notebook can be extracted into a regular text file to bring to a different development environment if desired.  You can read more about Project Jupyter here: https://en.wikipedia.org/wiki/Project_Jupyter \n",
    "\n",
    "In the Jupyter system a web server runs a Python interpreter and passes code and results back and forth between your browser and Python.  This allows for the Python process to run on a different computer than your browser.  In the SCC OnDemand system Python runs on a compute server with significantly more memory, disk space, and CPU capability than a typical desktop or laptop.  A notebook can be developed on your personal computer on a small dataset and then moved to a remote system to process a potentially very large dataset.  \n",
    "\n",
    "### JupyterLab\n",
    "\n",
    "JupyterLab is an updated Jupyter Notebook interface. It provides some extra features such as a file browser that make it easier to work with multiple notebooks.\n",
    "\n",
    "### IPython\n",
    "\n",
    "Jupyter notebooks actually run a variant of the standard Python interpreter.  This is called IPython.  It adds a number of features to the Python interpreter that make it easier to use and much easier to integrate into a system like Jupyter.  It does not add to or alter the Python language in any way."
   ]
  },
  {
   "cell_type": "markdown",
   "metadata": {},
   "source": [
    "## Using the Notebook\n",
    "\n",
    "Notebooks can have 3 types of \"cells\": code, markdown, and raw.  The type of a cell can be selected with the dropdown menu at the top of the notebook.\n",
    "\n",
    "* Markdown cells are used for descriptive text, images, links, and so on.  They are formatted using Markdown syntax: https://en.wikipedia.org/wiki/Markdown   When a Markdown cell is run it will be formatted and displayed.\n",
    "\n",
    "* Code cells are for Python code. When code cells are run they execute Python code. If the last line of code returns a value it will be printed automatically.\n",
    "\n",
    "* Raw cells are plain text. Running raw cells has no effect other than displaying the text.\n",
    "\n",
    "**To run or execute a cell** you can click the Play icon (triangle on its side) at the top of the notebook or press the Enter key while holding down the Shift key."
   ]
  },
  {
   "cell_type": "markdown",
   "metadata": {},
   "source": [
    "# Variables\n",
    "We can assign values to labels, a.k.a. variables..."
   ]
  },
  {
   "cell_type": "code",
   "execution_count": null,
   "metadata": {},
   "outputs": [],
   "source": [
    "a = 1"
   ]
  },
  {
   "cell_type": "code",
   "execution_count": null,
   "metadata": {},
   "outputs": [],
   "source": [
    "# here is how we can print that value\n",
    "print(a)"
   ]
  },
  {
   "cell_type": "code",
   "execution_count": null,
   "metadata": {},
   "outputs": [],
   "source": [
    "# this is a comment because it starts with a #. This is ignored by Python.\n",
    "b = a + 1   # Use the value stored in the variable a. Also comments can come after code."
   ]
  },
  {
   "cell_type": "code",
   "execution_count": null,
   "metadata": {},
   "outputs": [],
   "source": [
    "print(b)"
   ]
  },
  {
   "cell_type": "code",
   "execution_count": null,
   "metadata": {},
   "outputs": [],
   "source": [
    "# We have to create a variable before we can read a value from it.\n",
    "b = zzz - 1"
   ]
  },
  {
   "cell_type": "code",
   "execution_count": null,
   "metadata": {},
   "outputs": [],
   "source": [
    "# Cells can hold more than one line of code of course.\n",
    "a = 2     # re-define the variable a to store a new value\n",
    "b = 3\n",
    "c = a *  b  # Multiplication\n",
    "print(c)\n",
    "# Try re-writing \"c = a * b\" with different operators and re-running the cell\n",
    "# to print the value again.\n",
    "# Arithmetic operators:  + - * / ** // % ==  ()\n",
    "# example:   c = a / b   \n",
    "#      or:   c = 2 * a / (1 - b)\n",
    "# What do they all do?\n"
   ]
  },
  {
   "cell_type": "code",
   "execution_count": null,
   "metadata": {},
   "outputs": [],
   "source": [
    "# Variable names must start with a letter (lower or uppercase) or a _  After that digits may be used.\n",
    "_this_is_ok = 0\n",
    "a123 = _this_is_ok # ok\n",
    "tHiS_fInE_2 = a123 # sure!"
   ]
  },
  {
   "cell_type": "markdown",
   "metadata": {},
   "source": [
    "# Variable Data Types\n",
    " \n",
    "Python has many built-in data types and it's possible to define your own.  The basic types are:\n",
    "\n",
    "## Integers\n",
    "Standard integers are 32-bit (4 byte) in size with a range of -2,147,483,648 to +2,147,483,647. Python will automatically use larger data types (64-bit) for larger integer values."
   ]
  },
  {
   "cell_type": "code",
   "execution_count": null,
   "metadata": {},
   "outputs": [],
   "source": [
    "a = 22\n",
    "b = -2398213093\n",
    "c = a * b  # integer * integer = integer\n",
    "print(a,b,c) # print 'em all"
   ]
  },
  {
   "cell_type": "markdown",
   "metadata": {},
   "source": [
    "## Floating point\n",
    "\n",
    "aka any number with a decimal place.  Standard floating point numbers are 64-bit (8-byte) \"double precision\" values with a range of ±2.23×10<sup>−308</sup> to ±1.80×10<sup>308</sup>. "
   ]
  },
  {
   "cell_type": "code",
   "execution_count": null,
   "metadata": {},
   "outputs": [],
   "source": [
    "a = 1.0\n",
    "b = 2.  # ok to leave off the trailing 0 but easier to mis-read\n",
    "c = 1 / 2  # Division of integers gives a floating point result\n",
    "d = 0.5 * 4  # integer with a float in an operation gives a float\n",
    "print(a,b,c,d)\n",
    "\n",
    "# Make a large number\n",
    "e = 3.5e20   # exponents are labeled with an 'e'\n",
    "d = e / 2.1023e21 \n",
    "print(e,d)"
   ]
  },
  {
   "cell_type": "markdown",
   "metadata": {},
   "source": [
    "## Complex Numbers\n",
    "Same as floating points with an imaginary portion. Labeled with a 'j'."
   ]
  },
  {
   "cell_type": "code",
   "execution_count": null,
   "metadata": {},
   "outputs": [],
   "source": [
    "a = 1.0 - 2.1j\n",
    "b = 2 * a  # real times a complex gives a complex result.\n",
    "c = complex(3.9,0.15e3) # alternate construction\n",
    "print(a,b,c)"
   ]
  },
  {
   "cell_type": "markdown",
   "metadata": {},
   "source": [
    "## Strings\n",
    "Character strings are labeled with matched pairs of '' or \"\".  The quote not used to define the string can be used inside the string.  Triple quotes in matched pairs ''' ''' or \"\"\" \"\"\" are used for multi-line strings."
   ]
  },
  {
   "cell_type": "code",
   "execution_count": null,
   "metadata": {},
   "outputs": [],
   "source": [
    "a = 'This is a string.'\n",
    "b = \"So is this.\"\n",
    "print(a,b)\n",
    "c = \"Concatenate this with a and b: \" + a + b  # String addition\n",
    "print(c)\n",
    "d = \"Nice day, isn't it?\"   # double-quoted string allows for a ' inside.\n",
    "e = '\"yes,\" he replied.\"'  # single-quoted string allows for \" inside.\n",
    "print(d,e)\n",
    "print('************') \n",
    "# And here's a triple-quoted string. Note that single or double quotes can be freely used inside\n",
    "# the multi-line string.  Also, the spaces and newlines are retained when it is printed.\n",
    "f = '''\n",
    "'She can't do Addition,' the Red Queen interrupted, 'Can you do Subtraction? Take nine from eight.'\n",
    "\n",
    "\"Nine from eight I can't, you know,\" Alice replied very readily: 'but—'\n",
    "\n",
    "'She can't do Subtraction,' said the White Queen. 'Can you do Division? Divide a loaf by a knife—\n",
    "what's the answer to that?'\n",
    "\n",
    "'I suppose—' Alice was beginning, but the Red Queen answered for her. 'Bread-and-butter, of course.' \n",
    "                                                                         --- Alice in Wonderland\n",
    "'''\n",
    "print(f)\n"
   ]
  },
  {
   "cell_type": "markdown",
   "metadata": {},
   "source": [
    "## Special String characters\n",
    "A backslash \\ is sometimes placed in front of a character in a string to indicate a special value is to be substituted.  This is called an escape sequence. Some common ones:\n",
    "\n",
    "| Escape Sequence | Meaning |\n",
    "| --- | --- |\n",
    "| \\n | newline |\n",
    "| \\r | carriage return |\n",
    "| \\t | tab |\n",
    "| \\uXXXX | Unicode character with 16-bit hex value XXXX |\n",
    "| \\UYYYYYYYY | Unicode character with 32-bit hex value YYYYYYYY |"
   ]
  },
  {
   "cell_type": "code",
   "execution_count": null,
   "metadata": {},
   "outputs": [],
   "source": [
    "# A string with new lines:\n",
    "a = 'This is a line.\\nHere is another.'  \n",
    "print(a)\n",
    "# and now print one with a carriage return.  Yes, this refers back to the days of electric typewriters:\n",
    "print(\"what will\\rhappen?\")\n",
    "# And now print some special Unicode characters.\n",
    "print('\\u20AC   \\u00A3   \\u00E5   \\U0001F99E')\n",
    "\n",
    "# A prefix of a lowercase u before the string tells Python you want the string interpreted\n",
    "# as 16-bit unicode.  This is required in plain Python - here in the Jupyter notebook the prefix u\n",
    "# can be left out.\n",
    "print(u'¡Python es divertido!')"
   ]
  },
  {
   "cell_type": "markdown",
   "metadata": {},
   "source": [
    "## Boolean types  \n",
    "These are true/false values. Use the values of True and False - the capital letters matter!"
   ]
  },
  {
   "cell_type": "code",
   "execution_count": null,
   "metadata": {},
   "outputs": [],
   "source": [
    "a = True\n",
    "b = False\n",
    "# Try out some Boolean operators:   and  or  not.  Parantheses work too.\n",
    "c = a and b\n",
    "d = a or b\n",
    "e = not c or not (b and d)\n",
    "print(a,b,c,d,e)\n"
   ]
  },
  {
   "cell_type": "markdown",
   "metadata": {},
   "source": [
    "# Functions\n",
    "Functions let us write a bit of code and then re-use it repeatedly.  Python also provides a large number of functions. Many data types have their own functions built into their definitions as well.\n",
    "\n",
    "Syntax:\n",
    "\n",
    "<code>def function_name( variables,passed,to,function):\n",
    "   code for the function here\n",
    "   return  # optional return command</code>\n",
    "\n",
    "The **indentation** of the lines creates a \"code block.\"  Python knows the function definition has ended when the indentation has ended.  The indentation for a code block must be consistent or there will be an error."
   ]
  },
  {
   "cell_type": "code",
   "execution_count": null,
   "metadata": {},
   "outputs": [],
   "source": [
    "# Example of a simple function:\n",
    "\n",
    "def add_two(a):\n",
    "    b = a + 2\n",
    "    return b    # OR: do in one line...  return a+2\n",
    "\n",
    "# Call the function AFTER it has been defined.\n",
    "b = add_two(4)\n",
    "print(b)\n",
    "c = add_two(b)\n",
    "print(c)   # print() is a built-in function we've already been using.\n",
    "\n",
    "# The argument is optional but the () is required. If no value is returned\n",
    "# the return line can be omitted:\n",
    "def print_msg():\n",
    "    print(\"Hello world!\")\n",
    "    \n",
    "print_msg()"
   ]
  },
  {
   "cell_type": "code",
   "execution_count": null,
   "metadata": {},
   "outputs": [],
   "source": [
    "# Slightly more complex function.\n",
    "def parabola(x,a,b,c):\n",
    "    tmp = a * x**2 + b * x + c\n",
    "    return tmp\n",
    "\n",
    "# Feed function outputs right into other functions\n",
    "print(parabola(1,2,3,0.5))\n",
    "\n",
    "# Here's an alternate definition with default values:\n",
    "def parabola_2(x, a=2.5, b=3.1, c=0.0):\n",
    "    tmp = a * x**2 + b * x + c\n",
    "    return tmp\n",
    "\n",
    "print(parabola_2(0.5))\n",
    "print(parabola_2(0.5, 1)) # x=0.5, a=1.0 Defaults: b=3.1, c=0.0\n",
    "print(parabola_2(0.5, c=-10.4)) # x=0.5, c=-10.4  Defaults: b=3.1, a=1.0\n",
    "\n",
    "# As with variables we must define a function before we can use it.\n",
    "z=my_new_function(1)"
   ]
  },
  {
   "cell_type": "code",
   "execution_count": null,
   "metadata": {},
   "outputs": [],
   "source": []
  },
  {
   "cell_type": "markdown",
   "metadata": {},
   "source": [
    "## Python built-in functions\n",
    "\n",
    "Try this function which lists functions and variables:"
   ]
  },
  {
   "cell_type": "code",
   "execution_count": null,
   "metadata": {},
   "outputs": [],
   "source": [
    "dir()"
   ]
  },
  {
   "cell_type": "code",
   "execution_count": null,
   "metadata": {},
   "outputs": [],
   "source": [
    "# Get some help:\n",
    "help()"
   ]
  },
  {
   "cell_type": "markdown",
   "metadata": {},
   "source": [
    "## Functions built into data types.\n",
    "\n",
    "Python is an *object-oriented* language. Briefly, this means that data and functions that work on that data can be bundled together in a structure called a *class*.\n",
    "\n",
    "Strings are an example of a class.  Each Python string can access a set of functions that operate on that string."
   ]
  },
  {
   "cell_type": "code",
   "execution_count": null,
   "metadata": {},
   "outputs": [],
   "source": [
    "a = \"This is a string.\"\n",
    "# What functions come with a string variable?\n",
    "dir(a)"
   ]
  },
  {
   "cell_type": "code",
   "execution_count": null,
   "metadata": {},
   "outputs": [],
   "source": [
    "# Try some!\n",
    "print(a.upper())\n",
    "print(a.title())"
   ]
  },
  {
   "cell_type": "code",
   "execution_count": null,
   "metadata": {},
   "outputs": [],
   "source": [
    "# what do they mean?\n",
    "help(a.find)\n",
    "a.find('s')"
   ]
  },
  {
   "cell_type": "markdown",
   "metadata": {},
   "source": [
    "### Important: Strings are immutable\n",
    "Python strings cannot be changed once they are created. Functions on strings make new strings."
   ]
  },
  {
   "cell_type": "code",
   "execution_count": null,
   "metadata": {},
   "outputs": [],
   "source": [
    "a=\"hello world\"\n",
    "b = a.upper()\n",
    "print(a) # unchanged\n",
    "print(b) # new string"
   ]
  },
  {
   "cell_type": "markdown",
   "metadata": {},
   "source": [
    "# Lists and Dictionaries\n",
    "\n",
    "Lists and dictionaries are generic data types built into Python.\n",
    "\n",
    "## Lists\n",
    "A list is a 1-D sequence of variables and/or values.  A list can store any data type at any place in the list, including other lists, dictionaries, functions, etc. Few Python programs are written that don't use at least 1 list variable at some point."
   ]
  },
  {
   "cell_type": "code",
   "execution_count": null,
   "metadata": {},
   "outputs": [],
   "source": [
    "# Make an empty list\n",
    "a_lst = []\n",
    "# OR equivalently\n",
    "a_lst = list()\n",
    "\n",
    "# Make a list with a few things in it\n",
    "b_lst = [4,5.0,[],'cat']\n",
    "\n",
    "# Refer to an element of a list\n",
    "c = b_lst[0]\n",
    "print(c)\n"
   ]
  },
  {
   "cell_type": "code",
   "execution_count": null,
   "metadata": {},
   "outputs": [],
   "source": [
    "# In Python we count from 0.\n",
    "print(b_lst[0], b_lst[1], b_lst[2], b_lst[3])"
   ]
  },
  {
   "cell_type": "code",
   "execution_count": null,
   "metadata": {},
   "outputs": [],
   "source": [
    "# Count backwards from the end of the list with -1\n",
    "print(b_lst[-1], b_lst[-2], b_lst[-3], b_lst[-4])"
   ]
  },
  {
   "cell_type": "code",
   "execution_count": null,
   "metadata": {},
   "outputs": [],
   "source": [
    "# list slicing:  list_name[start:end:step]\n",
    "b_lst[0:2]  # Exlusive of the end index, this gives elements 0 and 1"
   ]
  },
  {
   "cell_type": "code",
   "execution_count": null,
   "metadata": {},
   "outputs": [],
   "source": [
    "b_lst[0:1] # And this is element 0 but inside a list, try b_lst[0] to compare"
   ]
  },
  {
   "cell_type": "code",
   "execution_count": null,
   "metadata": {},
   "outputs": [],
   "source": [
    "# Let's make a longer list.  range(start,end,step) is a function that makes a sequence of numbers.\n",
    "# convert it to a list.\n",
    "c_lst = list(range(5,25))\n",
    "print(c_lst)"
   ]
  },
  {
   "cell_type": "code",
   "execution_count": null,
   "metadata": {},
   "outputs": [],
   "source": [
    "# More slicing.  Slice from the end element backwards 2 steps. \n",
    "print(c_lst[-1:-4:-1])  # elements -1, -2, -3"
   ]
  },
  {
   "cell_type": "code",
   "execution_count": null,
   "metadata": {},
   "outputs": [],
   "source": [
    "# start: means from the start to the end\n",
    "print(c_lst[15:])"
   ]
  },
  {
   "cell_type": "code",
   "execution_count": null,
   "metadata": {},
   "outputs": [],
   "source": [
    "# :end means from 0 to the end index\n",
    "print(c_lst[:5])"
   ]
  },
  {
   "cell_type": "code",
   "execution_count": null,
   "metadata": {},
   "outputs": [],
   "source": [
    "# Print every 3rd element:\n",
    "print(c_lst[0::3]) "
   ]
  },
  {
   "cell_type": "code",
   "execution_count": null,
   "metadata": {},
   "outputs": [],
   "source": [
    "# Left-hand-side slicing overwrites several list elements\n",
    "c_lst[0:4]=[-99,-100,-101,-102]\n",
    "print(c_lst)"
   ]
  },
  {
   "cell_type": "code",
   "execution_count": null,
   "metadata": {},
   "outputs": [],
   "source": [
    "# Replace an element\n",
    "c_lst[10]=\"-10,000\"\n",
    "print(c_lst)\n",
    "\n",
    "# What happens if we do an assignment to an index that doesn't exist?  Uncomment and find out.\n",
    "#c_lst[1000] = 30\n"
   ]
  },
  {
   "cell_type": "code",
   "execution_count": null,
   "metadata": {},
   "outputs": [],
   "source": [
    "# Add to the end of a list\n",
    "a = []\n",
    "a.append(20)\n",
    "a.append(30)\n",
    "a.append(40)\n",
    "print(a)"
   ]
  },
  {
   "cell_type": "code",
   "execution_count": null,
   "metadata": {},
   "outputs": [],
   "source": [
    "# Join two lists\n",
    "b = [4,5,6]\n",
    "c = a + b\n",
    "print(c)\n",
    "# Add a again.  += means \"add to myself\"\n",
    "c += a\n",
    "print(c)"
   ]
  },
  {
   "cell_type": "code",
   "execution_count": null,
   "metadata": {},
   "outputs": [],
   "source": [
    "# Delete an element from a list:\n",
    "b = [4,5,6]\n",
    "del b[0]\n",
    "print(b)"
   ]
  },
  {
   "cell_type": "markdown",
   "metadata": {},
   "source": [
    "## Tuples\n",
    "\n",
    "Tuples are just like lists except their contents cannot be changed after they're created.  Create using optional ( )."
   ]
  },
  {
   "cell_type": "code",
   "execution_count": null,
   "metadata": {},
   "outputs": [],
   "source": [
    "a = (1,2)\n",
    "print(a)\n",
    "# Index as usual\n",
    "print(a[0])\n",
    "# Or create without parentheses\n",
    "b = 1,2\n"
   ]
  },
  {
   "cell_type": "code",
   "execution_count": null,
   "metadata": {},
   "outputs": [],
   "source": [
    "# Make a tuple from a list.\n",
    "a = [1,2,3,4]\n",
    "b = tuple(a)\n",
    "# Or a list from a tuple\n",
    "c = list(b)"
   ]
  },
  {
   "cell_type": "code",
   "execution_count": null,
   "metadata": {},
   "outputs": [],
   "source": [
    "# But a tuple cannot be changed...\n",
    "b[0] = 'whoops'"
   ]
  },
  {
   "cell_type": "markdown",
   "metadata": {},
   "source": [
    "## Dictionaries\n",
    "\n",
    "Dictionaries store data by associating a key with a value.  Keys can be almost any data type (not lists or dictionaries), values can be anything."
   ]
  },
  {
   "cell_type": "code",
   "execution_count": null,
   "metadata": {},
   "outputs": [],
   "source": [
    "# Make an empty dictionary with a pair of {}\n",
    "a = {}\n",
    "# Initialize a dictionary with {key:value, ...etc...}\n",
    "b = {1:2,'cat':'dog',-1.2:[1,2,3]}"
   ]
  },
  {
   "cell_type": "code",
   "execution_count": null,
   "metadata": {},
   "outputs": [],
   "source": [
    "# Look up values in a dictionary with a key\n",
    "b[1]"
   ]
  },
  {
   "cell_type": "code",
   "execution_count": null,
   "metadata": {},
   "outputs": [],
   "source": [
    "b['cat']"
   ]
  },
  {
   "cell_type": "code",
   "execution_count": null,
   "metadata": {},
   "outputs": [],
   "source": [
    "# Add a new key to a dictionary or replace a stored value:\n",
    "b['dog'] = 'bird'\n",
    "b[1] = 200\n",
    "print(b)"
   ]
  },
  {
   "cell_type": "code",
   "execution_count": null,
   "metadata": {},
   "outputs": [],
   "source": [
    "# What happens if we try to access a key that does not exist?\n",
    "b['uh-oh']"
   ]
  },
  {
   "cell_type": "code",
   "execution_count": null,
   "metadata": {},
   "outputs": [],
   "source": [
    "# Check to see if a key exists.  We'll revisit this when we look at \"if\" statements.\n",
    "print('uh-oh' in b)"
   ]
  },
  {
   "cell_type": "code",
   "execution_count": null,
   "metadata": {},
   "outputs": [],
   "source": [
    "print(-1.2 in b)"
   ]
  },
  {
   "cell_type": "code",
   "execution_count": null,
   "metadata": {},
   "outputs": [],
   "source": [
    "# Join two dictionaries\n",
    "a = {1:2}\n",
    "b = {3:4}\n",
    "# We can't do a+b, that's undefined.  The dictionary a can incorporate b with the update function\n",
    "a.update(b)\n",
    "print(a)"
   ]
  },
  {
   "cell_type": "code",
   "execution_count": null,
   "metadata": {},
   "outputs": [],
   "source": [
    "# OR...use some Python funky syntax to join a and b into a new dictionary. This means \"use all keys and values\":\n",
    "c = {**a, **b}\n",
    "print(c)"
   ]
  },
  {
   "cell_type": "code",
   "execution_count": null,
   "metadata": {},
   "outputs": [],
   "source": [
    "# Delete an element from a dictionary\n",
    "b = {1:2,'cat':'dog',-1.2:[1,2,3]}\n",
    "del b[1]\n",
    "print(b)"
   ]
  },
  {
   "cell_type": "markdown",
   "metadata": {},
   "source": [
    "# Loops\n",
    "\n",
    "Loops let you do things over and over. Loops let you do things over and over. Loops let you do things over and over. Loops let you do things over and over.... \n",
    "\n",
    "There are three main kinds of loops: for, while, and list comprehensions.  Loops can be implemented with recursive functions as well - those are functions that call themselves."
   ]
  },
  {
   "cell_type": "markdown",
   "metadata": {},
   "source": [
    "## For Loops\n",
    "\n",
    "A Python for loop is used to loop through a collection (list, tuple, dictionary keys, etc) and lets you do something with each element of the collection.\n",
    "\n",
    "Syntax:\n",
    "\n",
    "<code>for x in xyz:\n",
    "   ...something with x\n",
    "   ...something else\n",
    "</code>\n",
    "Again, the indentation tells Python which lines belong to the for loop."
   ]
  },
  {
   "cell_type": "code",
   "execution_count": null,
   "metadata": {},
   "outputs": [],
   "source": [
    "# Make a list to loop over.\n",
    "a = ['cat','dog','parakeet','goldfish','earthworm']\n",
    "# Print each element\n",
    "for elem in a:   # elem is the variable name you choose to refer to each element in the collection\n",
    "    print(elem)"
   ]
  },
  {
   "cell_type": "code",
   "execution_count": null,
   "metadata": {},
   "outputs": [],
   "source": [
    "# This time loop and print out their upper-cased versions.\n",
    "for x in a:  # call your loop variable anything you like\n",
    "    print(x.upper())\n",
    "    \n"
   ]
  },
  {
   "cell_type": "code",
   "execution_count": null,
   "metadata": {},
   "outputs": [],
   "source": [
    "# For loops can be of any length, can contain function calls, and can create or use any variables in the loop.\n",
    "# Changes to the looping variable don't effect the collection, mostly. \n",
    "# However - don't change the collection length (i.e. delete elements from it) while looping!\n",
    "for x in a:\n",
    "    x=2\n",
    "    print(x)\n",
    "print(\"a was not changed:\")\n",
    "print(a)"
   ]
  },
  {
   "cell_type": "markdown",
   "metadata": {},
   "source": [
    "## While\n",
    "\n",
    "While loops use a Boolean value and run as long as the Boolean value is True.  Indentation is used again, just like functions and for loops.  If the condition is never False than the loop will run forever!\n",
    "    "
   ]
  },
  {
   "cell_type": "code",
   "execution_count": null,
   "metadata": {},
   "outputs": [],
   "source": [
    "x = 4\n",
    "while x < 10:\n",
    "    print(x)\n",
    "    x += 1   # += means \"add 1 to myself\"</code>"
   ]
  },
  {
   "cell_type": "code",
   "execution_count": null,
   "metadata": {},
   "outputs": [],
   "source": [
    "# These can be used to loop over a list with an index number:\n",
    "idx = 0\n",
    "a=[5,6,7,8,9]\n",
    "# len(a) gives the length of a list...or tuple, dictionary, string, etc.\n",
    "while idx < len(a):\n",
    "    print (a[idx] * 2)\n",
    "    idx += 1  # DON'T FORGET!"
   ]
  },
  {
   "cell_type": "markdown",
   "metadata": {},
   "source": [
    "## List Comprehensions\n",
    "\n",
    "These are incredibly useful for converting one list to another. The syntax is a combination of a list with a for loop.\n"
   ]
  },
  {
   "cell_type": "code",
   "execution_count": null,
   "metadata": {},
   "outputs": [],
   "source": [
    "a = [1,2,3,4,5] # Start with a list or similar variable.\n",
    "b = [2 * x for x in a]  # Call each element of 'a' as 'x', multiply it by 2, and make a new list assigned to b.\n",
    "print(b)"
   ]
  },
  {
   "cell_type": "code",
   "execution_count": null,
   "metadata": {},
   "outputs": [],
   "source": [
    "# Or sum a list of lists.  Use the built-in sum() function.\n",
    "a = [ [1,2,3], [4,5,6], [7,8,9,-1,2.3,4.5]]\n",
    "b = [sum(x) for x in a] # [sum([1,2,3]), sum([4,5,6]), ...etc]\n",
    "print(b)\n",
    "# now print the sum of b:\n",
    "print(sum(b))\n",
    "\n",
    "# if what we REALLY want is the sum of everything in a, pack it all together\n",
    "total = sum( [sum(x) for x in a] )\n",
    "print(total)"
   ]
  },
  {
   "cell_type": "markdown",
   "metadata": {},
   "source": [
    "# Conditionals\n",
    "\n",
    "Conditional statements have the form: \"if true do X else do Y\". These can be combined with loops and function calls.\n",
    "\n",
    "Syntax:\n",
    "\n",
    "<code>if True:\n",
    "    ...do this...\n",
    "else:\n",
    "    ...do something else..</code>"
   ]
  },
  {
   "cell_type": "code",
   "execution_count": null,
   "metadata": {},
   "outputs": [],
   "source": [
    "a = 5\n",
    "b = 3\n",
    "if a < b:\n",
    "    print(\"a is less than b\")\n",
    "else:\n",
    "    print(\"a is greater than b\")"
   ]
  },
  {
   "cell_type": "code",
   "execution_count": null,
   "metadata": {},
   "outputs": [],
   "source": [
    "# now if a==b what happens?  Edit the above cell and re-run it. \n",
    "a = 5\n",
    "b = 5\n",
    "# Let's add another if statement.  Change up a and b and get all 3 statements to print.\n",
    "if a < b:\n",
    "    print(\"a is less than b\")\n",
    "elif a > b:\n",
    "    print(\"a is greater than b\")\n",
    "else:  # 'else' is the default when nothing else was true\n",
    "    print(\"a is equal to b\")\n",
    "    \n",
    "# Using else and elif are OPTIONAL - it's ok to have an if statement by itself.\n",
    "if 10 > 0:\n",
    "    print(u\"I \\U0001F493 Python!\")"
   ]
  },
  {
   "cell_type": "markdown",
   "metadata": {},
   "source": [
    "## Conditionals With Loops\n",
    "\n",
    "Add an if statement to a for loop..."
   ]
  },
  {
   "cell_type": "code",
   "execution_count": null,
   "metadata": {},
   "outputs": [],
   "source": [
    "a = list(range(20))\n",
    "for b in a:\n",
    "    if b % 2:\n",
    "        print('%s is odd' % b)  # This is a \"string substitution\" - b is inserted in place of the %s\n",
    "    else:\n",
    "        print('%s is even' % b)\n",
    "        "
   ]
  },
  {
   "cell_type": "code",
   "execution_count": null,
   "metadata": {},
   "outputs": [],
   "source": [
    "# Combine with the \"break\" statement to stop the loop.\n",
    "a = list(range(20))\n",
    "for b in a:\n",
    "    if b == 10:\n",
    "        break\n",
    "    print(b)"
   ]
  },
  {
   "cell_type": "code",
   "execution_count": null,
   "metadata": {},
   "outputs": [],
   "source": [
    "# The \"continue\" statement forces the loop immediately to the next iteration\n",
    "a = list(range(20))\n",
    "for b in a:\n",
    "    if b < 10:\n",
    "        continue\n",
    "    print(b)"
   ]
  },
  {
   "cell_type": "markdown",
   "metadata": {},
   "source": [
    "# Python Libraries\n",
    "\n",
    "Python was designed to make it easy to create and use software libraries written (usually) in Python.  Some libraries contain compiled C, C++, or Fortran code but are constructed so that they work just like Python code when you use them.  \n",
    "\n",
    "The Python language standard defines a large collection of these libraries, referred to as the Python Standard Library:\n",
    "https://docs.python.org/3.8/library/\n",
    "\n",
    "The Anaconda Python distribution includes a few hundred more. The *python3* modules on the SCC include several hundred Python libraries as well.  You can find a massive collection of them at the PyPi site:  https://pypi.org/ \n",
    "\n",
    "On the SCC you can follow these instructions to install your own Python libraries to use on your projects: \n",
    "https://www.bu.edu/tech/support/research/software-and-programming/common-languages/python/install-packages/\n",
    "\n",
    "To load a library, use the *import* command:"
   ]
  },
  {
   "cell_type": "code",
   "execution_count": null,
   "metadata": {},
   "outputs": [],
   "source": [
    "import math"
   ]
  },
  {
   "cell_type": "code",
   "execution_count": null,
   "metadata": {},
   "outputs": [],
   "source": [
    "# What's in the math library?\n",
    "dir(math)"
   ]
  },
  {
   "cell_type": "code",
   "execution_count": null,
   "metadata": {},
   "outputs": [],
   "source": [
    "# what do they do?\n",
    "help(math.sqrt)"
   ]
  },
  {
   "cell_type": "markdown",
   "metadata": {},
   "source": [
    "\"import math\" loads the math library which contains a bunch of useful math functions.\n",
    "Note the \"math.sqrt\" form.  The name \"math\" is called a namespace, which is used to keep library \n",
    "functions separate from your own.\n"
   ]
  },
  {
   "cell_type": "code",
   "execution_count": null,
   "metadata": {},
   "outputs": [],
   "source": [
    "def sqrt(x):\n",
    "    print('My sqrt is wrong!')\n",
    "    return x / 2 # don't ever do this in a real program\n",
    "\n",
    "print(sqrt(10))\n",
    "print(math.sqrt(10))"
   ]
  },
  {
   "cell_type": "markdown",
   "metadata": {},
   "source": [
    "## Library Import Renaming\n",
    "\n",
    "The import command can be used to re-name functions when they are imported or to discard the namespace altogether.\n"
   ]
  },
  {
   "cell_type": "code",
   "execution_count": null,
   "metadata": {},
   "outputs": [],
   "source": [
    "# Rename a function without the namespace\n",
    "from math import factorial as factorial\n",
    "factorial(4)"
   ]
  },
  {
   "cell_type": "code",
   "execution_count": null,
   "metadata": {},
   "outputs": [],
   "source": [
    "# Or just import the entire math library without any namespace at all\n",
    "from math import *\n",
    "sqrt(42) # which sqrt is called? The one from math or our function?"
   ]
  },
  {
   "cell_type": "markdown",
   "metadata": {},
   "source": [
    "# The University of Wisconsin Population Health Institute County Health Rankings data set\n",
    "\n",
    "Here's our data set:\n",
    "https://www.countyhealthrankings.org/explore-health-rankings/rankings-data-documentation\n",
    "\n",
    "This includes a broad array of health, environment and population measurements for the entire USA on a county-by-county level.  Let's load a piece of this dataset into Python and try out some of what we've learned on it.\n"
   ]
  },
  {
   "cell_type": "code",
   "execution_count": null,
   "metadata": {},
   "outputs": [],
   "source": [
    "# First we'll download a sub-section just for the New England states (Massachusetts, Rhode Island, Connecticut, Maine, New Hampshire, Vermont)\n",
    "# Import the csv library for handling a file in CSV format, and the urllib2 library for handling a URL.\n",
    "import csv\n",
    "import urllib.request\n",
    "import codecs # \n",
    "\n",
    "url = 'https://raw.githubusercontent.com/bu-rcs/bu-rcs.github.io/main/Bootcamp/Data/NE_DemographicsData.csv'\n",
    "# Call a function in urllib to read the remote file into a variable.\n",
    "ftpstream = urllib.request.urlopen(url)\n",
    "# Use a function in the codecs library to decode the csv file line-by-line into the right string format.\n",
    "# urlopen returns binary bytes, not strings, so it has to be decoded before we can use it.  The csv.reader\n",
    "# function will also break up each line by the commas into a list.\n",
    "csvfile = csv.reader(codecs.iterdecode(ftpstream, 'utf-8'))\n",
    "data = list(csvfile)  # convert to a regular list of lists."
   ]
  },
  {
   "cell_type": "markdown",
   "metadata": {},
   "source": [
    "You can follow this link to see the layout of this file:\n",
    "https://github.com/bu-rcs/bu-rcs.github.io/blob/main/Bootcamp/Data/NE_DemographicsData.csv\n"
   ]
  },
  {
   "cell_type": "markdown",
   "metadata": {},
   "source": [
    "### Goal: get a total population for each state  \n",
    "The row with the county name \"NA\" already gives the total, but as an exercise we'll compute it from the population-per-county.\n"
   ]
  },
  {
   "cell_type": "code",
   "execution_count": null,
   "metadata": {},
   "outputs": [],
   "source": [
    "# data is a list, each element is a line of the file:\n",
    "print(data[0]) # this is the header row\n",
    "print(data[12]) # here's the 12th row"
   ]
  },
  {
   "cell_type": "code",
   "execution_count": null,
   "metadata": {},
   "outputs": [],
   "source": [
    "# Counting columns we'll need column index 1 (state), index 2 (county), and index 9 (population)\n",
    "# Let's store the totals in a dictionary where the keys are the state name.\n",
    "# How do we get the states?\n",
    "# Method 1:  pops = {'Massachusetts':0, 'Connecticut':0}\n",
    "# but that gets boring quickly, and what if the data changes?  Or we want to use a different set of states?"
   ]
  },
  {
   "cell_type": "code",
   "execution_count": null,
   "metadata": {},
   "outputs": [],
   "source": [
    "# Method 2: let Python figure it out for us by taking advantage of the dictionary.\n",
    "pops = {}  # Initialize a dictionary.\n",
    "# Now let's loop through the data, and for each row try to put the state into the dictionary.\n",
    "# If it's not there, add it with a population initialized to 0. If it is there, do nothing.\n",
    "# remember data[0] is the header row so start at the next one and go to the end.\n",
    "for row in data[1:]:\n",
    "    # each row is a list already...\n",
    "    ##### what do we do here?\n",
    "    "
   ]
  },
  {
   "cell_type": "code",
   "execution_count": null,
   "metadata": {},
   "outputs": [],
   "source": [
    "# Method 2 solution...click on the blue line to the left of the dots to expand the solution.\n"
   ]
  },
  {
   "cell_type": "code",
   "execution_count": null,
   "metadata": {
    "jupyter": {
     "source_hidden": true
    }
   },
   "outputs": [],
   "source": [
    "pops = {}  # Initialize a dictionary.\n",
    "for row in data[1:]:\n",
    "    # each row is a list already...\n",
    "    state = row[1]\n",
    "    if state not in pops:\n",
    "        pops[state] = 0 # add it and initialize the value to 0.\n",
    "    # else...do nothing.\n"
   ]
  },
  {
   "cell_type": "code",
   "execution_count": null,
   "metadata": {},
   "outputs": [],
   "source": [
    "# Now let's loop through the data again and add the county populations...if the county name is not NA\n",
    "for row in data[1:]:\n",
    "    #....?"
   ]
  },
  {
   "cell_type": "code",
   "execution_count": null,
   "metadata": {},
   "outputs": [],
   "source": [
    "# expand the dots to see the solution"
   ]
  },
  {
   "cell_type": "code",
   "execution_count": null,
   "metadata": {},
   "outputs": [],
   "source": [
    "for row in data[1:]:\n",
    "    state = row[1]\n",
    "    county = row[2]\n",
    "    population = row[9]\n",
    "    if county != 'NA':\n",
    "        pops[state] += int(population)\n",
    "        \n"
   ]
  },
  {
   "cell_type": "code",
   "execution_count": null,
   "metadata": {},
   "outputs": [],
   "source": [
    "print(pops)\n"
   ]
  },
  {
   "cell_type": "code",
   "execution_count": null,
   "metadata": {},
   "outputs": [],
   "source": [
    "# just for fun - use the pprint library to \"Pretty Print\" the pops dictionary\n",
    "import pprint\n",
    "pp = pprint.PrettyPrinter()\n",
    "pp.pprint(pops)"
   ]
  },
  {
   "cell_type": "code",
   "execution_count": null,
   "metadata": {},
   "outputs": [],
   "source": [
    "# Bonus solution: combine both for loops into 1."
   ]
  },
  {
   "cell_type": "code",
   "execution_count": null,
   "metadata": {},
   "outputs": [],
   "source": [
    "pops = {}\n",
    "for row in data[1:]:\n",
    "    state = row[1]\n",
    "    if state not in pops:\n",
    "        pops[state] = 0\n",
    "    if row[2] != 'NA':\n",
    "        pops[state] += int(row[9])\n",
    "pp.pprint(pops)"
   ]
  }
 ],
 "metadata": {
  "kernelspec": {
   "display_name": "Python 3",
   "language": "python",
   "name": "python3"
  },
  "language_info": {
   "codemirror_mode": {
    "name": "ipython",
    "version": 3
   },
   "file_extension": ".py",
   "mimetype": "text/x-python",
   "name": "python",
   "nbconvert_exporter": "python",
   "pygments_lexer": "ipython3",
   "version": "3.8.5"
  }
 },
 "nbformat": 4,
 "nbformat_minor": 4
}
