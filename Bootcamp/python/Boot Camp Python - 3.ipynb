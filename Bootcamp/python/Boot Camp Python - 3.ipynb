{
 "cells": [
  {
   "cell_type": "markdown",
   "metadata": {},
   "source": [
    "# Research Computing Boot Camp\n",
    "# Boston University "
   ]
  },
  {
   "cell_type": "markdown",
   "metadata": {},
   "source": [
    "Website: [rcs.bu.edu](http://www.bu.edu/tech/support/research/) <br>\n",
    "Tutorial materials: [https://github.com/bu-rcs/bu-rcs.github.io/tree/main/Bootcamp](https://github.com/bu-rcs/bu-rcs.github.io/tree/main/Bootcamp)\n",
    "\n"
   ]
  },
  {
   "cell_type": "markdown",
   "metadata": {},
   "source": [
    "# Data Visualization in python\n",
    "\n",
    "### Matplotlib\n",
    "Matplotlib is a comprehensive library for creating static, animated, and interactive visualizations in Python.\n",
    "\n",
    "https://matplotlib.org/\n",
    "\n",
    "### Pandas plot\n",
    "https://pandas.pydata.org/pandas-docs/stable/reference/api/pandas.DataFrame.plot.html\n",
    "\n",
    "### Seaborn\n",
    "Seaborn is a Python data visualization library based on matplotlib. It provides a high-level interface for drawing attractive and informative statistical graphics.\n",
    "\n",
    "https://seaborn.pydata.org/"
   ]
  },
  {
   "cell_type": "markdown",
   "metadata": {},
   "source": [
    "## Matplotlib"
   ]
  },
  {
   "cell_type": "code",
   "execution_count": null,
   "metadata": {},
   "outputs": [],
   "source": [
    "import matplotlib as mpl\n",
    "\n",
    "## If using Jupyter notebook (NOT JupyterLab) this line\n",
    "## will enable interactive plotting which we'll make use of here.\n",
    "%matplotlib notebook \n",
    "# JupyterLab has support for this using the command:\n",
    "# %matplotlib widget\n",
    "# but it's not a standard part of JupyterLab yet.\n",
    "# Also - in regular python a command that starts with\n",
    "# % is not allowed - those are special commands added by the iPython\n",
    "# interpreter.\n",
    "print(mpl.__version__)"
   ]
  },
  {
   "cell_type": "markdown",
   "metadata": {},
   "source": [
    "The matplotlib is configured to render into the browser.\n",
    "\n",
    "This configuration is called a backend (backend layer)."
   ]
  },
  {
   "cell_type": "code",
   "execution_count": null,
   "metadata": {},
   "outputs": [],
   "source": [
    "mpl.get_backend()"
   ]
  },
  {
   "cell_type": "code",
   "execution_count": null,
   "metadata": {},
   "outputs": [],
   "source": [
    "# This sets the size of the figure as it is displayed in the notebook\n",
    "mpl.rcParams['figure.figsize'] = (4.0, 3.0)"
   ]
  },
  {
   "cell_type": "markdown",
   "metadata": {},
   "source": [
    "The sub-library pyplot is for plotting data (scripting layer).\n",
    "\n",
    "https://matplotlib.org/api/_as_gen/matplotlib.pyplot.html#module-matplotlib.pyplot"
   ]
  },
  {
   "cell_type": "code",
   "execution_count": null,
   "metadata": {},
   "outputs": [],
   "source": [
    "# pyplot is for plotting. Import & rename as plt.\n",
    "import matplotlib.pyplot as plt\n",
    "import numpy as np\n",
    "import pandas as pd"
   ]
  },
  {
   "cell_type": "code",
   "execution_count": null,
   "metadata": {},
   "outputs": [],
   "source": [
    "# What color styles are available for plotting?\n",
    "plt.style.available"
   ]
  },
  {
   "cell_type": "code",
   "execution_count": null,
   "metadata": {},
   "outputs": [],
   "source": [
    "# To set a style for the rest of the notebook call this function\n",
    "#plt.style.use('seaborn-colorblind')"
   ]
  },
  {
   "cell_type": "markdown",
   "metadata": {},
   "source": [
    "Examples:\n",
    "\n",
    "    Line plotting (plt.plot)\n",
    "    Bar chart (plt.bar)\n",
    "    Subplot (plt.subplot)\n",
    "    Histograms (hist)\n",
    "    Heatmap (hist2d)"
   ]
  },
  {
   "cell_type": "markdown",
   "metadata": {},
   "source": [
    "### Line plotting"
   ]
  },
  {
   "cell_type": "code",
   "execution_count": null,
   "metadata": {},
   "outputs": [],
   "source": [
    "# A trailing ? acts the same as help(plt.plot).  This is an iPython feature -\n",
    "# it works in JupyterLab and Notebook but not in \"plain\" Python\n",
    "plt.plot?"
   ]
  },
  {
   "cell_type": "markdown",
   "metadata": {},
   "source": [
    "Simply plot a dot in a figure"
   ]
  },
  {
   "cell_type": "code",
   "execution_count": null,
   "metadata": {},
   "outputs": [],
   "source": [
    "# plt.figure() creates a new plot window. \n",
    "plt.figure()\n",
    "plt.plot(3,2,'.');"
   ]
  },
  {
   "cell_type": "code",
   "execution_count": null,
   "metadata": {},
   "outputs": [],
   "source": [
    "# Calling plt.figure() creates a new figure window.\n",
    "plt.figure()\n",
    "# plot a point\n",
    "plt.plot(1.5, 1.5, 'o');\n",
    "# Subsequent plot calls will be on the same figure.\n",
    "plt.plot(2,2,'o');\n",
    "plt.plot(2.5, 2.5, 'o');"
   ]
  },
  {
   "cell_type": "markdown",
   "metadata": {},
   "source": [
    "## Plot lines for lists of data points"
   ]
  },
  {
   "cell_type": "code",
   "execution_count": null,
   "metadata": {},
   "outputs": [],
   "source": [
    "# Make some points for plotting.\n",
    "# To do this with plain Python:\n",
    "linear_data = [1,2,3,4,5,6,7] # make a list of points\n",
    "quadratic_data = [x**2 for x in linear_data] # make a new list with a \"list comprehension\"\n",
    "\n",
    "# We could use a Pandas Series\n",
    "linear_data = pd.Series([1,2,3,4,5,6,7])\n",
    "quadratic_data = linear_data**2\n",
    "\n",
    "# Or with numpy...\n",
    "# Make some points - place them in a numpy ndarray\n",
    "linear_data = np.array([1,2,3,4,5,6,7])\n",
    "# numpy can apply the square to every element in one command\n",
    "quadratic_data = linear_data**2\n",
    "\n",
    "\n",
    "# Three ways - same numeric results. The plot() command will accept anything that is list-like, i.e.\n",
    "# can be indexed or looped over for its x/y values.\n",
    "\n",
    "# x and y collections can be of different types - if your y values ended up in a Python list\n",
    "# and x values are in a column of a Pandas dataframe it's fine."
   ]
  },
  {
   "cell_type": "code",
   "execution_count": null,
   "metadata": {},
   "outputs": [],
   "source": [
    "linear_data"
   ]
  },
  {
   "cell_type": "code",
   "execution_count": null,
   "metadata": {},
   "outputs": [],
   "source": [
    "quadratic_data"
   ]
  },
  {
   "cell_type": "code",
   "execution_count": null,
   "metadata": {},
   "outputs": [],
   "source": [
    "# Let's plot these together\n",
    "plt.figure()\n",
    "plt.plot(linear_data,quadratic_data);\n",
    "# Try adding some markers:\n",
    "# plt.plot(linear_data,quadratic_data,'d');\n",
    "# Or changing the linestyle\n",
    "# plt.plot(linear_data,quadratic_data,'-.');\n",
    "# Or the color:\n",
    "#  plt.plot(linear_data,quadratic_data,'r');\n",
    "# Or all 3 at once:\n",
    "#plt.plot(linear_data,quadratic_data,'rd-.');"
   ]
  },
  {
   "cell_type": "code",
   "execution_count": null,
   "metadata": {},
   "outputs": [],
   "source": [
    "plt.figure();\n",
    "# Providing just 1 collection implies you are providing y-values\n",
    "# and that the x-values go from 0 to the len(y_pts)-1.\n",
    "# Plot the linear data then the quadratic data\n",
    "plt.plot(linear_data, '-o');\n",
    "plt.plot(quadratic_data, '--o');"
   ]
  },
  {
   "cell_type": "code",
   "execution_count": null,
   "metadata": {},
   "outputs": [],
   "source": [
    "# Same thing, but now let's add labels to the axes, a title, and a legend.\n",
    "plt.figure();\n",
    "plt.plot(linear_data, '-o');\n",
    "plt.plot(quadratic_data, '--o');\n",
    "plt.xlabel('Your x data');\n",
    "plt.ylabel('Your y data');\n",
    "plt.title('A title');"
   ]
  },
  {
   "cell_type": "code",
   "execution_count": null,
   "metadata": {},
   "outputs": [],
   "source": [
    "plt.legend(['Baseline', 'Competition']);"
   ]
  },
  {
   "cell_type": "code",
   "execution_count": null,
   "metadata": {},
   "outputs": [],
   "source": [
    "plt.plot([10, 15, 25], '--s');"
   ]
  },
  {
   "cell_type": "code",
   "execution_count": null,
   "metadata": {},
   "outputs": [],
   "source": [
    "plt.legend(['Baseline', 'Competition', 'us']);"
   ]
  },
  {
   "cell_type": "code",
   "execution_count": null,
   "metadata": {},
   "outputs": [],
   "source": [
    "plt.fill_between(range(len(linear_data)), \n",
    "                      linear_data, quadratic_data,\n",
    "                      facecolor='blue',\n",
    "                      alpha=0.1);"
   ]
  },
  {
   "cell_type": "code",
   "execution_count": null,
   "metadata": {},
   "outputs": [],
   "source": [
    "# plt.gca -->  \"get current axes\".  The axes refers to the x/y axes shown in the plot.\n",
    "ax = plt.gca()\n",
    "ax.axis([0,6,0,20])"
   ]
  },
  {
   "cell_type": "code",
   "execution_count": null,
   "metadata": {},
   "outputs": [],
   "source": [
    "ax.relim() \n",
    "ax.autoscale()"
   ]
  },
  {
   "cell_type": "markdown",
   "metadata": {},
   "source": [
    "### Bar chart"
   ]
  },
  {
   "cell_type": "code",
   "execution_count": null,
   "metadata": {},
   "outputs": [],
   "source": [
    "plt.figure()\n",
    "\n",
    "xvals = range(len(linear_data))\n",
    "print(xvals)\n",
    "\n",
    "plt.bar(xvals,linear_data, width=0.3);"
   ]
  },
  {
   "cell_type": "code",
   "execution_count": null,
   "metadata": {},
   "outputs": [],
   "source": [
    "new_xvals=[]\n",
    "for item in xvals:\n",
    "    new_xvals.append(item+0.3)\n",
    "    \n",
    "plt.bar(new_xvals, quadratic_data, width=0.3, color='red')"
   ]
  },
  {
   "cell_type": "code",
   "execution_count": null,
   "metadata": {},
   "outputs": [],
   "source": [
    "plt.figure();\n",
    "\n",
    "plt.bar(xvals, linear_data, width=0.3, color='b')\n",
    "\n",
    "plt.bar(xvals, quadratic_data, width=0.3, bottom=linear_data, color='r')"
   ]
  },
  {
   "cell_type": "code",
   "execution_count": null,
   "metadata": {},
   "outputs": [],
   "source": [
    "plt.figure();\n",
    "\n",
    "plt.barh(xvals, linear_data, height=0.3, color='b')\n",
    "\n",
    "plt.barh(xvals, quadratic_data, height=0.3, left=linear_data, color='r')"
   ]
  },
  {
   "cell_type": "markdown",
   "metadata": {},
   "source": [
    "### Subplot"
   ]
  },
  {
   "cell_type": "code",
   "execution_count": null,
   "metadata": {},
   "outputs": [],
   "source": [
    "plt.figure()\n",
    "\n",
    "# subplot with 1 row, 2 columns, and current axis is 1st subplot axes\n",
    "plt.subplot(1, 2, 1)\n",
    "\n",
    "plt.plot(linear_data, '-o')"
   ]
  },
  {
   "cell_type": "code",
   "execution_count": null,
   "metadata": {},
   "outputs": [],
   "source": [
    "plt.subplot(1,2,2);\n",
    "\n",
    "plt.plot(quadratic_data, '-o');"
   ]
  },
  {
   "cell_type": "code",
   "execution_count": null,
   "metadata": {},
   "outputs": [],
   "source": [
    "plt.figure();\n",
    "\n",
    "# subplit: (nrows,ncols,index)\n",
    "# The index is left to right across rows. It starts at 1.\n",
    "ax1 = plt.subplot(1, 2, 1);\n",
    "\n",
    "plt.plot(linear_data, '-o');\n",
    "\n",
    "# pass sharey=ax1 to ensure the two subplots share the same y axis\n",
    "ax2 = plt.subplot(1, 2, 2, sharey=ax1);\n",
    "\n",
    "plt.plot(quadratic_data, '-x');"
   ]
  },
  {
   "cell_type": "code",
   "execution_count": null,
   "metadata": {},
   "outputs": [],
   "source": [
    "fig, ((ax1,ax2,ax3), (ax4,ax5,ax6), (ax7,ax8,ax9)) = plt.subplots(3, 3, sharex=True, sharey=True)\n"
   ]
  },
  {
   "cell_type": "code",
   "execution_count": null,
   "metadata": {},
   "outputs": [],
   "source": [
    "ax5.plot(linear_data, '-');"
   ]
  },
  {
   "cell_type": "code",
   "execution_count": null,
   "metadata": {},
   "outputs": [],
   "source": [
    "ax3.plot(quadratic_data, '-');"
   ]
  },
  {
   "cell_type": "markdown",
   "metadata": {},
   "source": [
    "### Histograms"
   ]
  },
  {
   "cell_type": "code",
   "execution_count": null,
   "metadata": {},
   "outputs": [],
   "source": [
    "# create 2x2 grid of axis subplots\n",
    "fig, ((ax1, ax2), (ax3, ax4)) = plt.subplots(2, 2, sharex=True)\n",
    "axs = [ax1,ax2,ax3,ax4]\n",
    "\n",
    "# draw n = 10, 100, 1000, and 10000 samples from the normal distribution and plot corresponding histograms\n",
    "for n in range(0,4):\n",
    "    # generating random numbers\n",
    "    sample_size = 10**(n+1)\n",
    "    sample = np.random.normal(loc=0.0, scale=1.0, size=sample_size)\n",
    "    \n",
    "    # histogram plotting\n",
    "    axs[n].hist(sample, bins=100)\n",
    "    \n",
    "    # title for each axes\n",
    "    axs[n].set_title('n={}'.format(sample_size))"
   ]
  },
  {
   "cell_type": "markdown",
   "metadata": {},
   "source": [
    "### Heatmaps (2d-histograms)"
   ]
  },
  {
   "cell_type": "code",
   "execution_count": null,
   "metadata": {},
   "outputs": [],
   "source": [
    "plt.figure()\n",
    "\n",
    "X = np.random.random(size=10000)\n",
    "\n",
    "Y = np.random.normal(loc=0.0,scale=1.0,size=10000)\n",
    "\n",
    "plt.hist2d(X, Y, bins=100, cmap='rainbow');\n",
    "## cmap: color map options\n",
    "## https://matplotlib.org/3.2.1/tutorials/colors/colormaps.html"
   ]
  },
  {
   "cell_type": "code",
   "execution_count": null,
   "metadata": {},
   "outputs": [],
   "source": [
    "plt.colorbar();"
   ]
  },
  {
   "cell_type": "markdown",
   "metadata": {},
   "source": [
    "### Animations\n",
    "https://matplotlib.org/3.2.1/api/animation_api.html#animation"
   ]
  },
  {
   "cell_type": "markdown",
   "metadata": {},
   "source": [
    "## Empty figure \n",
    "fig, ax = plt.subplots()\n",
    "## Empty data\n",
    "xdata, ydata = [], []\n",
    "## Empty plot\n",
    "ln, = plt.plot([], [], 'ro')\n",
    "\n",
    "## you can preset the figure size\n",
    "#ax.set_xlim(0, 2*np.pi)\n",
    "#ax.set_ylim(-1, 1)\n",
    "\n",
    "def update(frame):\n",
    "    ## add new one data point per frame\n",
    "    xdata.append(frame)\n",
    "    ydata.append(np.sin(frame))\n",
    "    \n",
    "    ## update the plot\n",
    "    ln.set_data(xdata, ydata)\n",
    "    \n",
    "    ## auto rescale figure size\n",
    "    ax.relim()      \n",
    "    ax.autoscale()\n",
    "    return ln,"
   ]
  },
  {
   "cell_type": "markdown",
   "metadata": {},
   "source": [
    "from matplotlib.animation import FuncAnimation\n",
    "\n",
    "ani = FuncAnimation(fig, update, frames=np.linspace(0, 4*np.pi, 64))"
   ]
  },
  {
   "cell_type": "markdown",
   "metadata": {},
   "source": [
    "ani.save('myAnimation.gif', writer='imagemagick', fps=30)"
   ]
  },
  {
   "cell_type": "markdown",
   "metadata": {},
   "source": [
    "## Pandas plotting\n",
    "\n",
    "https://pandas.pydata.org/pandas-docs/stable/reference/api/pandas.DataFrame.plot.html\n",
    "\n",
    "Iris flower data set https://en.wikipedia.org/wiki/Iris_flower_data_set"
   ]
  },
  {
   "cell_type": "code",
   "execution_count": null,
   "metadata": {},
   "outputs": [],
   "source": [
    "import pandas as pd\n",
    "# Let's import the US-wide health data.\n",
    "big_df = pd.read_csv('https://raw.githubusercontent.com/bu-rcs/bu-rcs.github.io/main/Bootcamp/Data/USA_HealthData.csv')\n",
    "# Clean out the NaN County rows, as before\n",
    "big_df.drop(big_df[big_df['County'].isnull()].index, inplace=True) \n",
    "# And delete the FIPS column for plotting convenience\n",
    "del big_df['FIPS']\n",
    "# Also as before bring in the census regions\n",
    "reg_df = pd.read_csv('https://raw.githubusercontent.com/bu-rcs/bu-rcs.github.io/main/Bootcamp/Data/us_states_census_regions.csv')\n",
    "big_df = pd.merge(left=big_df, right=reg_df, left_on='State', right_on='State')\n",
    "big_df"
   ]
  },
  {
   "cell_type": "markdown",
   "metadata": {},
   "source": [
    "### DataFrame.plot()\n",
    "\n",
    "kind : str\n",
    "    - 'line' : line plot (default)\n",
    "    - 'bar' : vertical bar plot\n",
    "    - 'barh' : horizontal bar plot\n",
    "    - 'hist' : histogram\n",
    "    - 'box' : boxplot\n",
    "    - 'kde' : Kernel Density Estimation plot\n",
    "    - 'density' : same as 'kde'\n",
    "    - 'area' : area plot\n",
    "    - 'pie' : pie plot\n",
    "    - 'scatter' : scatter plot\n",
    "    - 'hexbin' : hexbin plot"
   ]
  },
  {
   "cell_type": "code",
   "execution_count": null,
   "metadata": {},
   "outputs": [],
   "source": [
    "# x defaults to the indices 0 thru 3141\n",
    "big_df.plot(y='% Fair or Poor Health')"
   ]
  },
  {
   "cell_type": "code",
   "execution_count": null,
   "metadata": {},
   "outputs": [],
   "source": [
    "big_df.plot?"
   ]
  },
  {
   "cell_type": "code",
   "execution_count": null,
   "metadata": {},
   "outputs": [],
   "source": [
    "big_df.plot();"
   ]
  },
  {
   "cell_type": "code",
   "execution_count": null,
   "metadata": {},
   "outputs": [],
   "source": [
    "# That's too many!  Filter down to a few:\n",
    "big_df[['% Fair or Poor Health','% Severe Housing Problems','% Physically Inactive']].plot()"
   ]
  },
  {
   "cell_type": "code",
   "execution_count": null,
   "metadata": {
    "scrolled": false
   },
   "outputs": [],
   "source": [
    "# Do a box plot of a few columns\n",
    "cols=['% Fair or Poor Health','% Physically Inactive']\n",
    "# Filter then call boxplot:\n",
    "fig = big_df[cols].boxplot()\n",
    "# OR\n",
    "#fig = big_df.boxplot(column=cols)\n",
    "\n",
    "# The extra circles are outlier points."
   ]
  },
  {
   "cell_type": "code",
   "execution_count": null,
   "metadata": {},
   "outputs": [],
   "source": [
    "#dir(fig)"
   ]
  },
  {
   "cell_type": "code",
   "execution_count": null,
   "metadata": {},
   "outputs": [],
   "source": [
    "fig.set_xlabel('Health Statistics')\n",
    "fig.set_ylabel('Percent')"
   ]
  },
  {
   "cell_type": "code",
   "execution_count": null,
   "metadata": {},
   "outputs": [],
   "source": [
    "#  Histogram plot\n",
    "big_df.hist(column='% Smokers')"
   ]
  },
  {
   "cell_type": "code",
   "execution_count": null,
   "metadata": {},
   "outputs": [],
   "source": [
    "#  Histogram plot, grouped by states, after filtering for New England\n",
    "new_eng = ['Massachusetts','New Hampshire','Connecticut','Rhode Island','Vermont','Maine']\n",
    "big_df[big_df['State'].isin(new_eng)].hist(column='% Smokers', by='State')\n"
   ]
  },
  {
   "cell_type": "code",
   "execution_count": null,
   "metadata": {},
   "outputs": [],
   "source": [
    "# KDE plot - \"Generate Kernel Density Estimate plot using Gaussian kernels.\"\n",
    "# more detail: https://en.wikipedia.org/wiki/Kernel_density_estimation \n",
    "\n",
    "big_df['% Smokers'].plot.kde()"
   ]
  },
  {
   "cell_type": "markdown",
   "metadata": {},
   "source": [
    "#### Plot results from data manipulation"
   ]
  },
  {
   "cell_type": "code",
   "execution_count": null,
   "metadata": {},
   "outputs": [],
   "source": [
    "big_df.head()"
   ]
  },
  {
   "cell_type": "code",
   "execution_count": null,
   "metadata": {},
   "outputs": [],
   "source": [
    "# Mean of some columns after grouping by states.\n",
    "big_df.groupby('Region')[['% Excessive Drinking','% Adults with Obesity']].mean()"
   ]
  },
  {
   "cell_type": "code",
   "execution_count": null,
   "metadata": {},
   "outputs": [],
   "source": [
    "fig, ax = plt.subplots() # get a figure and an axes\n",
    "big_df.groupby('Region')[['% Excessive Drinking','% Adults with Obesity']].mean().plot(kind='bar', ax=ax, rot=0);\n",
    "ax.set_ylabel('%')\n",
    "# Uncomment and re-run to fix those overlapping x labels\n",
    "# fig.autofmt_xdate()"
   ]
  },
  {
   "cell_type": "code",
   "execution_count": null,
   "metadata": {},
   "outputs": [],
   "source": [
    "# Not all plotting functions are packed into a dataframe.  Let's plot a \n",
    "# scatter matrix for some of the columns\n",
    "# First some random data just to show the plot\n",
    "df = pd.DataFrame(np.random.randn(1000, 4), columns=['A','B','C','D'])\n",
    "pd.plotting.scatter_matrix(df, alpha=0.2)"
   ]
  },
  {
   "cell_type": "code",
   "execution_count": null,
   "metadata": {},
   "outputs": [],
   "source": [
    "# Now let's try our data...\n",
    "cols = ['% Excessive Drinking','% Adults with Obesity','% With Access to Exercise Opportunities','% Physically Inactive']\n",
    "pd.plotting.scatter_matrix(big_df[cols]);"
   ]
  },
  {
   "cell_type": "code",
   "execution_count": null,
   "metadata": {},
   "outputs": [],
   "source": [
    "# There's a label formatting problem.  How do we fix it?\n",
    "# By manipulating the axes AND by renaming the columns\n",
    "new_cols = {'% Excessive Drinking': '%ed',\n",
    "            '% Adults with Obesity': '%awo',\n",
    "            '% With Access to Exercise Opportunities':'%watec',\n",
    "            '% Physically Inactive':'%pi'}\n",
    "sm=pd.plotting.scatter_matrix(big_df[cols].rename(columns=new_cols))\n",
    "\n",
    "#Change label rotation\n",
    "[s.xaxis.label.set_rotation(45) for s in sm.reshape(-1)]\n",
    "[s.yaxis.label.set_rotation(90) for s in sm.reshape(-1)]\n",
    "\n",
    "#Hide all ticks\n",
    "[s.set_xticks(()) for s in sm.reshape(-1)]\n",
    "[s.set_yticks(()) for s in sm.reshape(-1)]"
   ]
  },
  {
   "cell_type": "markdown",
   "metadata": {},
   "source": [
    "## Seaborn\n",
    "https://seaborn.pydata.org/"
   ]
  },
  {
   "cell_type": "code",
   "execution_count": null,
   "metadata": {},
   "outputs": [],
   "source": [
    "import seaborn as sns"
   ]
  },
  {
   "cell_type": "code",
   "execution_count": null,
   "metadata": {},
   "outputs": [],
   "source": [
    "sns.pairplot(big_df[cols],diag_kind='kde', height=1.5);"
   ]
  },
  {
   "cell_type": "markdown",
   "metadata": {},
   "source": [
    "### x vs y by seaborn"
   ]
  },
  {
   "cell_type": "code",
   "execution_count": null,
   "metadata": {},
   "outputs": [],
   "source": [
    "np.random.seed(1234)\n",
    "\n",
    "v1 = pd.Series(np.random.normal(0,10,1000), name='v1')\n",
    "v2 = pd.Series(2*v1 + np.random.normal(60,15,1000), name='v2')"
   ]
  },
  {
   "cell_type": "code",
   "execution_count": null,
   "metadata": {},
   "outputs": [],
   "source": [
    "plt.figure()\n",
    "plt.hist(v1, alpha=0.7, bins=np.arange(-50,150,5), label='v1');\n",
    "plt.hist(v2, alpha=0.7, bins=np.arange(-50,150,5), label='v2');\n",
    "plt.legend();"
   ]
  },
  {
   "cell_type": "code",
   "execution_count": null,
   "metadata": {},
   "outputs": [],
   "source": [
    "plt.figure()\n",
    "plt.scatter(v1,v2)"
   ]
  },
  {
   "cell_type": "code",
   "execution_count": null,
   "metadata": {},
   "outputs": [],
   "source": [
    "sns.jointplot(v1, v2, alpha=0.4);"
   ]
  },
  {
   "cell_type": "code",
   "execution_count": null,
   "metadata": {},
   "outputs": [],
   "source": [
    "sns.jointplot(v1, v2, kind='hex');"
   ]
  },
  {
   "cell_type": "code",
   "execution_count": null,
   "metadata": {},
   "outputs": [],
   "source": [
    "# set the seaborn style for all the following plots\n",
    "sns.set_style('white')\n",
    "\n",
    "sns.jointplot(v1, v2, kind='kde', space=0);"
   ]
  },
  {
   "cell_type": "markdown",
   "metadata": {},
   "source": [
    "### Some Health Data Plots"
   ]
  },
  {
   "cell_type": "code",
   "execution_count": null,
   "metadata": {},
   "outputs": [],
   "source": [
    "fig, ax = plt.subplots()\n",
    "# The Groupby makes the Region into the index values. reset_index() replaces it with\n",
    "# numbers, makes Region into a column, and will let this plot.\n",
    "sub_df = big_df.groupby(['Region'])[['% Smokers']].mean().reset_index()\n",
    "sns.barplot(y='Region',x='% Smokers',data=sub_df, ax=ax)"
   ]
  },
  {
   "cell_type": "code",
   "execution_count": null,
   "metadata": {},
   "outputs": [],
   "source": [
    "# Let's bring in demographics data to our dataframe\n",
    "demo_df = pd.read_csv('https://raw.githubusercontent.com/bu-rcs/bu-rcs.github.io/main/Bootcamp/Data/USA_DemographicsData.csv')\n",
    "demo_df.drop(demo_df[demo_df['County'].isnull()].index, inplace=True) \n",
    "\n",
    "big_df = pd.merge(left=big_df, right=demo_df, left_on='County', right_on='County')\n",
    "big_df.columns"
   ]
  },
  {
   "cell_type": "code",
   "execution_count": null,
   "metadata": {},
   "outputs": [],
   "source": [
    "# Seaborn histogram of life expectancy\n",
    "plt.figure()\n",
    "sns.histplot(big_df['Life Expectancy'])"
   ]
  },
  {
   "cell_type": "code",
   "execution_count": null,
   "metadata": {},
   "outputs": [],
   "source": [
    "# Plot again, this time with the median labeled.\n",
    "fig, ax = plt.subplots()\n",
    "# Uncomment this line and comment the sns line to compare plotting styles\n",
    "#df.hist('Life_Expectancy',ax=ax, bins=np.arange(60, 100, 0.5))\n",
    "sns.histplot(big_df['Life Expectancy'],ax=ax, bins=np.arange(60, 100, 0.5))\n",
    "med_age = big_df['Life Expectancy'].median()\n",
    "# How high to plot the median line?  Let's query the axes for\n",
    "# the ylimits:\n",
    "ylim = ax.get_ylim() # ylim == (0.0, 1167.6)\n",
    "ax.plot([med_age,med_age],[0,ylim[1]],'r--')\n",
    "ax.set_xlabel('age')\n",
    "ax.set_ylabel('Count of counties')\n",
    "ax.set_title('Life Expectancy')\n",
    "# Set the y axis to the range it was at before we added the median line\n",
    "ax.set_ylim(ylim)\n",
    "ax.set_xlim([60,100])\n",
    "ax.legend(['Median age'])\n"
   ]
  },
  {
   "cell_type": "code",
   "execution_count": null,
   "metadata": {},
   "outputs": [],
   "source": [
    "ax.get_ylim()"
   ]
  }
 ],
 "metadata": {
  "kernelspec": {
   "display_name": "Python 3",
   "language": "python",
   "name": "python3"
  },
  "language_info": {
   "codemirror_mode": {
    "name": "ipython",
    "version": 3
   },
   "file_extension": ".py",
   "mimetype": "text/x-python",
   "name": "python",
   "nbconvert_exporter": "python",
   "pygments_lexer": "ipython3",
   "version": "3.8.5"
  }
 },
 "nbformat": 4,
 "nbformat_minor": 4
}
